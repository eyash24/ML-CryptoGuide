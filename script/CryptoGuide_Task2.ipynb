{
  "cells": [
    {
      "cell_type": "markdown",
      "metadata": {
        "id": "WpW9qD8yqIyY"
      },
      "source": [
        "# Intel Crypto Guide Task 2: Data Collection and Preparation"
      ]
    },
    {
      "cell_type": "markdown",
      "metadata": {
        "id": "G9ZShj-Oqb84"
      },
      "source": [
        "Instructions:\n",
        "- Create the dataset\n",
        "- Conduct feature analysis\n",
        "- Format the data\n",
        "- Conduct data quality analysis\n"
      ]
    },
    {
      "cell_type": "code",
      "execution_count": 13,
      "metadata": {
        "colab": {
          "base_uri": "https://localhost:8080/"
        },
        "id": "FBmQMCpnvGn3",
        "outputId": "a58adb57-a880-4457-a9b4-32c7e935c2b1"
      },
      "outputs": [
        {
          "name": "stdout",
          "output_type": "stream",
          "text": [
            "Collecting mplfinance\n",
            "  Downloading mplfinance-0.12.10b0-py3-none-any.whl.metadata (19 kB)\n",
            "Requirement already satisfied: matplotlib in /usr/local/lib/python3.11/dist-packages (from mplfinance) (3.10.0)\n",
            "Requirement already satisfied: pandas in /usr/local/lib/python3.11/dist-packages (from mplfinance) (2.2.2)\n",
            "Requirement already satisfied: contourpy>=1.0.1 in /usr/local/lib/python3.11/dist-packages (from matplotlib->mplfinance) (1.3.1)\n",
            "Requirement already satisfied: cycler>=0.10 in /usr/local/lib/python3.11/dist-packages (from matplotlib->mplfinance) (0.12.1)\n",
            "Requirement already satisfied: fonttools>=4.22.0 in /usr/local/lib/python3.11/dist-packages (from matplotlib->mplfinance) (4.56.0)\n",
            "Requirement already satisfied: kiwisolver>=1.3.1 in /usr/local/lib/python3.11/dist-packages (from matplotlib->mplfinance) (1.4.8)\n",
            "Requirement already satisfied: numpy>=1.23 in /usr/local/lib/python3.11/dist-packages (from matplotlib->mplfinance) (2.0.2)\n",
            "Requirement already satisfied: packaging>=20.0 in /usr/local/lib/python3.11/dist-packages (from matplotlib->mplfinance) (24.2)\n",
            "Requirement already satisfied: pillow>=8 in /usr/local/lib/python3.11/dist-packages (from matplotlib->mplfinance) (11.1.0)\n",
            "Requirement already satisfied: pyparsing>=2.3.1 in /usr/local/lib/python3.11/dist-packages (from matplotlib->mplfinance) (3.2.3)\n",
            "Requirement already satisfied: python-dateutil>=2.7 in /usr/local/lib/python3.11/dist-packages (from matplotlib->mplfinance) (2.8.2)\n",
            "Requirement already satisfied: pytz>=2020.1 in /usr/local/lib/python3.11/dist-packages (from pandas->mplfinance) (2025.2)\n",
            "Requirement already satisfied: tzdata>=2022.7 in /usr/local/lib/python3.11/dist-packages (from pandas->mplfinance) (2025.2)\n",
            "Requirement already satisfied: six>=1.5 in /usr/local/lib/python3.11/dist-packages (from python-dateutil>=2.7->matplotlib->mplfinance) (1.17.0)\n",
            "Downloading mplfinance-0.12.10b0-py3-none-any.whl (75 kB)\n",
            "\u001b[2K   \u001b[90m━━━━━━━━━━━━━━━━━━━━━━━━━━━━━━━━━━━━━━━━\u001b[0m \u001b[32m75.0/75.0 kB\u001b[0m \u001b[31m2.2 MB/s\u001b[0m eta \u001b[36m0:00:00\u001b[0m\n",
            "\u001b[?25hInstalling collected packages: mplfinance\n",
            "Successfully installed mplfinance-0.12.10b0\n"
          ]
        }
      ],
      "source": [
        "!pip install mplfinance"
      ]
    },
    {
      "cell_type": "code",
      "execution_count": null,
      "metadata": {
        "id": "7ekw5mPxqHv4"
      },
      "outputs": [],
      "source": [
        "import json\n",
        "import websocket\n",
        "import os\n",
        "import pandas as pd\n",
        "import time\n",
        "import numpy as np\n",
        "import matplotlib.pyplot as plt\n",
        "import seaborn as sns\n",
        "import mplfinance as mpf\n",
        "from sklearn.model_selection import train_test_split"
      ]
    },
    {
      "cell_type": "code",
      "execution_count": 2,
      "metadata": {
        "colab": {
          "base_uri": "https://localhost:8080/"
        },
        "id": "T7zL23Wep_Dt",
        "outputId": "989d3839-7e68-47bb-fdd7-b56c754f8067"
      },
      "outputs": [
        {
          "name": "stdout",
          "output_type": "stream",
          "text": [
            "btcusdt@ticker_1h/ethusdt@ticker_1h/ltcusdt@ticker_1h\n",
            "btcusdt@ticker_1d/ethusdt@ticker_1d/ltcusdt@ticker_1d\n"
          ]
        }
      ],
      "source": [
        "assets = [\"BTC\", \"ETH\", \"LTC\"]\n",
        "assets_hourly = [coins.lower() + \"usdt@ticker_1h\" for coins in assets]\n",
        "assets_hourly = \"/\".join(assets_hourly)\n",
        "print(assets_hourly)\n",
        "\n",
        "assets_daily = [coins.lower() + \"usdt@ticker_1d\" for coins in assets]\n",
        "assets_daily = \"/\".join(assets_daily)\n",
        "print(assets_daily)\n"
      ]
    },
    {
      "cell_type": "code",
      "execution_count": null,
      "metadata": {
        "id": "r980LjuBqp6h"
      },
      "outputs": [],
      "source": [
        "csv_dir_hourly = \"content/Dataset/hourlyV2\"\n",
        "csv_dir_daily = \"content/Dataset/daily24thV2\"\n",
        "os.makedirs(csv_dir_daily)\n",
        "os.makedirs(csv_dir_hourly)"
      ]
    },
    {
      "cell_type": "code",
      "execution_count": 4,
      "metadata": {
        "colab": {
          "base_uri": "https://localhost:8080/"
        },
        "id": "f3CJXNuurFtg",
        "outputId": "0d217eb8-9aa9-4cde-8465-0a0097d5fe5f"
      },
      "outputs": [
        {
          "name": "stdout",
          "output_type": "stream",
          "text": [
            "['content/Dataset/hourly/Bitcoin.csv', 'content/Dataset/hourly/Ethereum.csv', 'content/Dataset/hourly/Litecoin.csv']\n",
            "['content/Dataset/daily24th/Bitcoin.csv', 'content/Dataset/daily24th/Ethereum.csv', 'content/Dataset/daily24th/Litecoin.csv']\n"
          ]
        }
      ],
      "source": [
        "csv_files_name = [\"Bitcoin.csv\", \"Ethereum.csv\", \"Litecoin.csv\"]\n",
        "\n",
        "csv_files_hourly = [os.path.join(csv_dir_hourly, coins) for coins in csv_files_name]\n",
        "print(csv_files_hourly)\n",
        "\n",
        "csv_files_daily = [os.path.join(csv_dir_daily, coins) for coins in csv_files_name]\n",
        "print(csv_files_daily)"
      ]
    },
    {
      "cell_type": "code",
      "execution_count": null,
      "metadata": {
        "id": "6W2BqttwrH-C"
      },
      "outputs": [],
      "source": [
        "for file in csv_files_hourly:\n",
        "    os.makedirs(os.path.dirname(file), exist_ok=True)\n",
        "    if not os.path.exists(file):\n",
        "        with open(file, \"w\") as f:\n",
        "            f.write(\"Date,Open,High,Low,Close,Volume\\n\")\n",
        "            f.close()\n",
        "    else:\n",
        "        print(f\"{file} already exists.\")\n",
        "\n",
        "for file in csv_files_daily:\n",
        "    os.makedirs(os.path.dirname(file), exist_ok=True)\n",
        "    if not os.path.exists(file):\n",
        "        with open(file, \"w\") as f:\n",
        "            f.write(\"Date,Open,High,Low,Close,Volume\\n\")\n",
        "            f.close()\n",
        "    else:\n",
        "        print(f\"{file} already exists.\")"
      ]
    },
    {
      "cell_type": "code",
      "execution_count": 6,
      "metadata": {
        "id": "EZBfiDfqr5yI"
      },
      "outputs": [],
      "source": [
        "source = \"\""
      ]
    },
    {
      "cell_type": "code",
      "execution_count": 7,
      "metadata": {
        "id": "qkV99FMrr-6R"
      },
      "outputs": [],
      "source": [
        "def retrieve_csv_file(symbol: str, hourly=True):\n",
        "    # print(symbol == \"btcusdt\")\n",
        "    if hourly:\n",
        "        csv_file_in_use = csv_files_hourly\n",
        "    else:\n",
        "        csv_file_in_use = csv_files_daily\n",
        "\n",
        "    if symbol:\n",
        "        if symbol ==  \"btcusdt\":\n",
        "            return csv_file_in_use[0]\n",
        "        elif symbol ==  \"ethusdt\":\n",
        "            return csv_file_in_use[1]\n",
        "        elif symbol ==  \"ltcusdt\":\n",
        "            return csv_file_in_use[2]\n",
        "\n",
        "    else:\n",
        "        raise ValueError(\"Invalid symbol\")"
      ]
    },
    {
      "cell_type": "code",
      "execution_count": null,
      "metadata": {
        "id": "Tspw0p06sBVa"
      },
      "outputs": [],
      "source": [
        "def on_open(ws):\n",
        "    print(\"Connection opened\")\n",
        "\n",
        "def on_message(ws, message, hourly=True):\n",
        "    message = json.loads(message)\n",
        "    global source\n",
        "    source = message\n",
        "    # print(message)\n",
        "\n",
        "    coin_data = message['data']\n",
        "\n",
        "    symbol = coin_data[\"s\"].lower()\n",
        "    csv_save_file = retrieve_csv_file(str(symbol), hourly)\n",
        "    timestamp = coin_data[\"E\"]\n",
        "    open_price = coin_data[\"o\"]\n",
        "    high_price = coin_data[\"h\"]\n",
        "    low_price = coin_data[\"l\"]\n",
        "    close_price = coin_data[\"c\"]\n",
        "    volume = coin_data[\"v\"]\n",
        "\n",
        "    timestamp = pd.to_datetime(timestamp)\n",
        "\n",
        "    df = pd.DataFrame({\n",
        "        \"timestamp\": [timestamp],\n",
        "        \"open\": [open_price],\n",
        "        \"high\": [high_price],\n",
        "        \"low\": [low_price],\n",
        "        \"close\": [close_price],\n",
        "        \"volume\": [volume]\n",
        "    })\n",
        "\n",
        "    df.to_csv(f\"{csv_save_file}\", mode=\"a\", header=False, index=False)\n",
        "\n",
        "\n",
        "def on_close(ws, close_status_code, close_msg):\n",
        "    print(\"Connection closed\")\n",
        "\n",
        "def on_error(ws, error):\n",
        "    print(\"Error:\", error)"
      ]
    },
    {
      "cell_type": "code",
      "execution_count": 9,
      "metadata": {
        "colab": {
          "base_uri": "https://localhost:8080/"
        },
        "id": "dppWAkxRsDc7",
        "outputId": "0a0bdd20-5bb6-4b36-bfa4-f1f9df8138de"
      },
      "outputs": [
        {
          "data": {
            "text/plain": [
              "('wss://stream.binance.com:9443/stream?streams=btcusdt@ticker_1h/ethusdt@ticker_1h/ltcusdt@ticker_1h',\n",
              " 'wss://stream.binance.com:9443/stream?streams=btcusdt@ticker_1d/ethusdt@ticker_1d/ltcusdt@ticker_1d')"
            ]
          },
          "execution_count": 9,
          "metadata": {},
          "output_type": "execute_result"
        }
      ],
      "source": [
        "socket_hourly = f\"wss://stream.binance.com:9443/stream?streams={assets_hourly}\"\n",
        "socket_daily = f\"wss://stream.binance.com:9443/stream?streams={assets_daily}\"\n",
        "socket_hourly, socket_daily"
      ]
    },
    {
      "cell_type": "code",
      "execution_count": 11,
      "metadata": {
        "id": "mBW-ddfwsJ7o"
      },
      "outputs": [],
      "source": [
        "def run_websocket_hourly(socket_name):\n",
        "    ws = websocket.create_connection(socket_name)\n",
        "    # print(\"WebSocket connection opened\")\n",
        "\n",
        "    # ws = websocket.WebSocketApp(\n",
        "    #     socket_hourly,\n",
        "    #     on_open=on_open,\n",
        "    #     on_close=on_close,\n",
        "    #     on_error=on_error,\n",
        "    #     on_message=on_message\n",
        "    # )\n",
        "\n",
        "    result = ws.recv()\n",
        "    on_message(ws, result)\n",
        "\n",
        "    print(\"Received:\", result)\n",
        "    ws.close()\n",
        "\n",
        "def run_websocket_daily(socket_name):\n",
        "    ws = websocket.create_connection(socket_name)\n",
        "    # print(\"WebSocket connection opened\")\n",
        "\n",
        "    # ws = websocket.WebSocketApp(\n",
        "    #     socket_daily,\n",
        "    #     on_open=on_open,\n",
        "    #     on_close=on_close,\n",
        "    #     on_error=on_error,\n",
        "    #     on_message=on_message\n",
        "    # )\n",
        "\n",
        "    result = ws.recv()\n",
        "    on_message(ws, result, hourly=False)\n",
        "    print(\"Received:\", result)\n",
        "    ws.close()\n"
      ]
    },
    {
      "cell_type": "code",
      "execution_count": null,
      "metadata": {
        "id": "EcO07atGsOnD"
      },
      "outputs": [],
      "source": [
        "# Running this cell will start requesting cryptocurrency OHLCV data from Binance servers\n",
        "count = 0\n",
        "socket = \"wss://stream.binance.com:9443/stream?streams=\"\n",
        "while True:\n",
        "    if count % 24 == 0:\n",
        "        print(\"\\n\\nDaily report:\")\n",
        "        # runs the websocket for daily data\n",
        "        for coins in assets:\n",
        "            socket_name = socket + coins.lower() + \"usdt@ticker_1d\"\n",
        "            run_websocket_daily(socket_name)\n",
        "\n",
        "    count += 1\n",
        "    print(\"\\n\\nHourly report:\")\n",
        "    for coins in assets:\n",
        "        socket_name = socket + coins.lower() + \"usdt@ticker_1h\"\n",
        "        run_websocket_hourly(socket_name)\n",
        "\n",
        "    time.sleep(3600)"
      ]
    },
    {
      "cell_type": "markdown",
      "metadata": {
        "id": "A9rhjzNduEWw"
      },
      "source": [
        "I had kept the above cell block running for a few days and have collected data.<br>\n",
        "I have additionally also downloaded the past 10 years price history of each of the desired cryptocurrency through https://in.investing.com/ site\n",
        "<br>"
      ]
    },
    {
      "cell_type": "markdown",
      "metadata": {
        "id": "HUETYjVux73Y"
      },
      "source": [
        "## EDA"
      ]
    },
    {
      "cell_type": "code",
      "execution_count": 78,
      "metadata": {
        "colab": {
          "base_uri": "https://localhost:8080/",
          "height": 206
        },
        "id": "iP7U-hrGs9ri",
        "outputId": "1cff9109-0874-4bec-e750-1abd0c85302c"
      },
      "outputs": [
        {
          "data": {
            "application/vnd.google.colaboratory.intrinsic+json": {
              "summary": "{\n  \"name\": \"df_litecoin\",\n  \"rows\": 3147,\n  \"fields\": [\n    {\n      \"column\": \"Date\",\n      \"properties\": {\n        \"dtype\": \"string\",\n        \"num_unique_values\": 3147,\n        \"samples\": [\n          \"24-02-2017\",\n          \"10-08-2022\",\n          \"20-06-2021\"\n        ],\n        \"semantic_type\": \"\",\n        \"description\": \"\"\n      }\n    },\n    {\n      \"column\": \"Close\",\n      \"properties\": {\n        \"dtype\": \"number\",\n        \"std\": 57.059735763015226,\n        \"min\": 3.5,\n        \"max\": 386.82,\n        \"num_unique_values\": 2661,\n        \"samples\": [\n          79.01,\n          102.66,\n          228.9\n        ],\n        \"semantic_type\": \"\",\n        \"description\": \"\"\n      }\n    },\n    {\n      \"column\": \"Open\",\n      \"properties\": {\n        \"dtype\": \"number\",\n        \"std\": 57.10201256236044,\n        \"min\": 3.51,\n        \"max\": 387.81,\n        \"num_unique_values\": 2659,\n        \"samples\": [\n          54.62,\n          97.24,\n          111.28\n        ],\n        \"semantic_type\": \"\",\n        \"description\": \"\"\n      }\n    },\n    {\n      \"column\": \"High\",\n      \"properties\": {\n        \"dtype\": \"number\",\n        \"std\": 60.38540781341956,\n        \"min\": 3.58,\n        \"max\": 420.0,\n        \"num_unique_values\": 2675,\n        \"samples\": [\n          51.8,\n          107.49,\n          66.08\n        ],\n        \"semantic_type\": \"\",\n        \"description\": \"\"\n      }\n    },\n    {\n      \"column\": \"Low\",\n      \"properties\": {\n        \"dtype\": \"number\",\n        \"std\": 53.37951749011413,\n        \"min\": 3.26,\n        \"max\": 345.2,\n        \"num_unique_values\": 2633,\n        \"samples\": [\n          182.45,\n          76.95,\n          50.01\n        ],\n        \"semantic_type\": \"\",\n        \"description\": \"\"\n      }\n    },\n    {\n      \"column\": \"Vol.\",\n      \"properties\": {\n        \"dtype\": \"string\",\n        \"num_unique_values\": 2403,\n        \"samples\": [\n          \"490.55K\",\n          \"18.28K\",\n          \"219.44K\"\n        ],\n        \"semantic_type\": \"\",\n        \"description\": \"\"\n      }\n    },\n    {\n      \"column\": \"Change %\",\n      \"properties\": {\n        \"dtype\": \"category\",\n        \"num_unique_values\": 1417,\n        \"samples\": [\n          \"2.23%\",\n          \"6.16%\",\n          \"-7.21%\"\n        ],\n        \"semantic_type\": \"\",\n        \"description\": \"\"\n      }\n    }\n  ]\n}",
              "type": "dataframe",
              "variable_name": "df_litecoin"
            },
            "text/html": [
              "\n",
              "  <div id=\"df-e157f676-f389-43c2-a790-955a5ed47b1c\" class=\"colab-df-container\">\n",
              "    <div>\n",
              "<style scoped>\n",
              "    .dataframe tbody tr th:only-of-type {\n",
              "        vertical-align: middle;\n",
              "    }\n",
              "\n",
              "    .dataframe tbody tr th {\n",
              "        vertical-align: top;\n",
              "    }\n",
              "\n",
              "    .dataframe thead th {\n",
              "        text-align: right;\n",
              "    }\n",
              "</style>\n",
              "<table border=\"1\" class=\"dataframe\">\n",
              "  <thead>\n",
              "    <tr style=\"text-align: right;\">\n",
              "      <th></th>\n",
              "      <th>Date</th>\n",
              "      <th>Close</th>\n",
              "      <th>Open</th>\n",
              "      <th>High</th>\n",
              "      <th>Low</th>\n",
              "      <th>Vol.</th>\n",
              "      <th>Change %</th>\n",
              "    </tr>\n",
              "  </thead>\n",
              "  <tbody>\n",
              "    <tr>\n",
              "      <th>0</th>\n",
              "      <td>05-04-2025</td>\n",
              "      <td>83.76</td>\n",
              "      <td>84.40</td>\n",
              "      <td>84.94</td>\n",
              "      <td>83.58</td>\n",
              "      <td>910.01K</td>\n",
              "      <td>-0.76%</td>\n",
              "    </tr>\n",
              "    <tr>\n",
              "      <th>1</th>\n",
              "      <td>04-04-2025</td>\n",
              "      <td>84.41</td>\n",
              "      <td>83.43</td>\n",
              "      <td>85.09</td>\n",
              "      <td>81.64</td>\n",
              "      <td>933.59K</td>\n",
              "      <td>1.19%</td>\n",
              "    </tr>\n",
              "    <tr>\n",
              "      <th>2</th>\n",
              "      <td>03-04-2025</td>\n",
              "      <td>83.41</td>\n",
              "      <td>81.53</td>\n",
              "      <td>84.65</td>\n",
              "      <td>80.18</td>\n",
              "      <td>962.77K</td>\n",
              "      <td>2.30%</td>\n",
              "    </tr>\n",
              "    <tr>\n",
              "      <th>3</th>\n",
              "      <td>02-04-2025</td>\n",
              "      <td>81.54</td>\n",
              "      <td>84.48</td>\n",
              "      <td>88.49</td>\n",
              "      <td>81.02</td>\n",
              "      <td>1.44M</td>\n",
              "      <td>-3.49%</td>\n",
              "    </tr>\n",
              "    <tr>\n",
              "      <th>4</th>\n",
              "      <td>01-04-2025</td>\n",
              "      <td>84.48</td>\n",
              "      <td>82.95</td>\n",
              "      <td>85.88</td>\n",
              "      <td>82.89</td>\n",
              "      <td>739.37K</td>\n",
              "      <td>1.84%</td>\n",
              "    </tr>\n",
              "  </tbody>\n",
              "</table>\n",
              "</div>\n",
              "    <div class=\"colab-df-buttons\">\n",
              "\n",
              "  <div class=\"colab-df-container\">\n",
              "    <button class=\"colab-df-convert\" onclick=\"convertToInteractive('df-e157f676-f389-43c2-a790-955a5ed47b1c')\"\n",
              "            title=\"Convert this dataframe to an interactive table.\"\n",
              "            style=\"display:none;\">\n",
              "\n",
              "  <svg xmlns=\"http://www.w3.org/2000/svg\" height=\"24px\" viewBox=\"0 -960 960 960\">\n",
              "    <path d=\"M120-120v-720h720v720H120Zm60-500h600v-160H180v160Zm220 220h160v-160H400v160Zm0 220h160v-160H400v160ZM180-400h160v-160H180v160Zm440 0h160v-160H620v160ZM180-180h160v-160H180v160Zm440 0h160v-160H620v160Z\"/>\n",
              "  </svg>\n",
              "    </button>\n",
              "\n",
              "  <style>\n",
              "    .colab-df-container {\n",
              "      display:flex;\n",
              "      gap: 12px;\n",
              "    }\n",
              "\n",
              "    .colab-df-convert {\n",
              "      background-color: #E8F0FE;\n",
              "      border: none;\n",
              "      border-radius: 50%;\n",
              "      cursor: pointer;\n",
              "      display: none;\n",
              "      fill: #1967D2;\n",
              "      height: 32px;\n",
              "      padding: 0 0 0 0;\n",
              "      width: 32px;\n",
              "    }\n",
              "\n",
              "    .colab-df-convert:hover {\n",
              "      background-color: #E2EBFA;\n",
              "      box-shadow: 0px 1px 2px rgba(60, 64, 67, 0.3), 0px 1px 3px 1px rgba(60, 64, 67, 0.15);\n",
              "      fill: #174EA6;\n",
              "    }\n",
              "\n",
              "    .colab-df-buttons div {\n",
              "      margin-bottom: 4px;\n",
              "    }\n",
              "\n",
              "    [theme=dark] .colab-df-convert {\n",
              "      background-color: #3B4455;\n",
              "      fill: #D2E3FC;\n",
              "    }\n",
              "\n",
              "    [theme=dark] .colab-df-convert:hover {\n",
              "      background-color: #434B5C;\n",
              "      box-shadow: 0px 1px 3px 1px rgba(0, 0, 0, 0.15);\n",
              "      filter: drop-shadow(0px 1px 2px rgba(0, 0, 0, 0.3));\n",
              "      fill: #FFFFFF;\n",
              "    }\n",
              "  </style>\n",
              "\n",
              "    <script>\n",
              "      const buttonEl =\n",
              "        document.querySelector('#df-e157f676-f389-43c2-a790-955a5ed47b1c button.colab-df-convert');\n",
              "      buttonEl.style.display =\n",
              "        google.colab.kernel.accessAllowed ? 'block' : 'none';\n",
              "\n",
              "      async function convertToInteractive(key) {\n",
              "        const element = document.querySelector('#df-e157f676-f389-43c2-a790-955a5ed47b1c');\n",
              "        const dataTable =\n",
              "          await google.colab.kernel.invokeFunction('convertToInteractive',\n",
              "                                                    [key], {});\n",
              "        if (!dataTable) return;\n",
              "\n",
              "        const docLinkHtml = 'Like what you see? Visit the ' +\n",
              "          '<a target=\"_blank\" href=https://colab.research.google.com/notebooks/data_table.ipynb>data table notebook</a>'\n",
              "          + ' to learn more about interactive tables.';\n",
              "        element.innerHTML = '';\n",
              "        dataTable['output_type'] = 'display_data';\n",
              "        await google.colab.output.renderOutput(dataTable, element);\n",
              "        const docLink = document.createElement('div');\n",
              "        docLink.innerHTML = docLinkHtml;\n",
              "        element.appendChild(docLink);\n",
              "      }\n",
              "    </script>\n",
              "  </div>\n",
              "\n",
              "\n",
              "<div id=\"df-c32a57bf-e3d0-4548-b10f-86f06a8f4498\">\n",
              "  <button class=\"colab-df-quickchart\" onclick=\"quickchart('df-c32a57bf-e3d0-4548-b10f-86f06a8f4498')\"\n",
              "            title=\"Suggest charts\"\n",
              "            style=\"display:none;\">\n",
              "\n",
              "<svg xmlns=\"http://www.w3.org/2000/svg\" height=\"24px\"viewBox=\"0 0 24 24\"\n",
              "     width=\"24px\">\n",
              "    <g>\n",
              "        <path d=\"M19 3H5c-1.1 0-2 .9-2 2v14c0 1.1.9 2 2 2h14c1.1 0 2-.9 2-2V5c0-1.1-.9-2-2-2zM9 17H7v-7h2v7zm4 0h-2V7h2v10zm4 0h-2v-4h2v4z\"/>\n",
              "    </g>\n",
              "</svg>\n",
              "  </button>\n",
              "\n",
              "<style>\n",
              "  .colab-df-quickchart {\n",
              "      --bg-color: #E8F0FE;\n",
              "      --fill-color: #1967D2;\n",
              "      --hover-bg-color: #E2EBFA;\n",
              "      --hover-fill-color: #174EA6;\n",
              "      --disabled-fill-color: #AAA;\n",
              "      --disabled-bg-color: #DDD;\n",
              "  }\n",
              "\n",
              "  [theme=dark] .colab-df-quickchart {\n",
              "      --bg-color: #3B4455;\n",
              "      --fill-color: #D2E3FC;\n",
              "      --hover-bg-color: #434B5C;\n",
              "      --hover-fill-color: #FFFFFF;\n",
              "      --disabled-bg-color: #3B4455;\n",
              "      --disabled-fill-color: #666;\n",
              "  }\n",
              "\n",
              "  .colab-df-quickchart {\n",
              "    background-color: var(--bg-color);\n",
              "    border: none;\n",
              "    border-radius: 50%;\n",
              "    cursor: pointer;\n",
              "    display: none;\n",
              "    fill: var(--fill-color);\n",
              "    height: 32px;\n",
              "    padding: 0;\n",
              "    width: 32px;\n",
              "  }\n",
              "\n",
              "  .colab-df-quickchart:hover {\n",
              "    background-color: var(--hover-bg-color);\n",
              "    box-shadow: 0 1px 2px rgba(60, 64, 67, 0.3), 0 1px 3px 1px rgba(60, 64, 67, 0.15);\n",
              "    fill: var(--button-hover-fill-color);\n",
              "  }\n",
              "\n",
              "  .colab-df-quickchart-complete:disabled,\n",
              "  .colab-df-quickchart-complete:disabled:hover {\n",
              "    background-color: var(--disabled-bg-color);\n",
              "    fill: var(--disabled-fill-color);\n",
              "    box-shadow: none;\n",
              "  }\n",
              "\n",
              "  .colab-df-spinner {\n",
              "    border: 2px solid var(--fill-color);\n",
              "    border-color: transparent;\n",
              "    border-bottom-color: var(--fill-color);\n",
              "    animation:\n",
              "      spin 1s steps(1) infinite;\n",
              "  }\n",
              "\n",
              "  @keyframes spin {\n",
              "    0% {\n",
              "      border-color: transparent;\n",
              "      border-bottom-color: var(--fill-color);\n",
              "      border-left-color: var(--fill-color);\n",
              "    }\n",
              "    20% {\n",
              "      border-color: transparent;\n",
              "      border-left-color: var(--fill-color);\n",
              "      border-top-color: var(--fill-color);\n",
              "    }\n",
              "    30% {\n",
              "      border-color: transparent;\n",
              "      border-left-color: var(--fill-color);\n",
              "      border-top-color: var(--fill-color);\n",
              "      border-right-color: var(--fill-color);\n",
              "    }\n",
              "    40% {\n",
              "      border-color: transparent;\n",
              "      border-right-color: var(--fill-color);\n",
              "      border-top-color: var(--fill-color);\n",
              "    }\n",
              "    60% {\n",
              "      border-color: transparent;\n",
              "      border-right-color: var(--fill-color);\n",
              "    }\n",
              "    80% {\n",
              "      border-color: transparent;\n",
              "      border-right-color: var(--fill-color);\n",
              "      border-bottom-color: var(--fill-color);\n",
              "    }\n",
              "    90% {\n",
              "      border-color: transparent;\n",
              "      border-bottom-color: var(--fill-color);\n",
              "    }\n",
              "  }\n",
              "</style>\n",
              "\n",
              "  <script>\n",
              "    async function quickchart(key) {\n",
              "      const quickchartButtonEl =\n",
              "        document.querySelector('#' + key + ' button');\n",
              "      quickchartButtonEl.disabled = true;  // To prevent multiple clicks.\n",
              "      quickchartButtonEl.classList.add('colab-df-spinner');\n",
              "      try {\n",
              "        const charts = await google.colab.kernel.invokeFunction(\n",
              "            'suggestCharts', [key], {});\n",
              "      } catch (error) {\n",
              "        console.error('Error during call to suggestCharts:', error);\n",
              "      }\n",
              "      quickchartButtonEl.classList.remove('colab-df-spinner');\n",
              "      quickchartButtonEl.classList.add('colab-df-quickchart-complete');\n",
              "    }\n",
              "    (() => {\n",
              "      let quickchartButtonEl =\n",
              "        document.querySelector('#df-c32a57bf-e3d0-4548-b10f-86f06a8f4498 button');\n",
              "      quickchartButtonEl.style.display =\n",
              "        google.colab.kernel.accessAllowed ? 'block' : 'none';\n",
              "    })();\n",
              "  </script>\n",
              "</div>\n",
              "\n",
              "    </div>\n",
              "  </div>\n"
            ],
            "text/plain": [
              "         Date  Close   Open   High    Low     Vol. Change %\n",
              "0  05-04-2025  83.76  84.40  84.94  83.58  910.01K   -0.76%\n",
              "1  04-04-2025  84.41  83.43  85.09  81.64  933.59K    1.19%\n",
              "2  03-04-2025  83.41  81.53  84.65  80.18  962.77K    2.30%\n",
              "3  02-04-2025  81.54  84.48  88.49  81.02    1.44M   -3.49%\n",
              "4  01-04-2025  84.48  82.95  85.88  82.89  739.37K    1.84%"
            ]
          },
          "execution_count": 78,
          "metadata": {},
          "output_type": "execute_result"
        }
      ],
      "source": [
        "df_litecoin = pd.read_csv('/content/Litecoin Historical Data.csv')\n",
        "df_litecoin.head()"
      ]
    },
    {
      "cell_type": "code",
      "execution_count": 79,
      "metadata": {
        "colab": {
          "base_uri": "https://localhost:8080/"
        },
        "id": "6zrD5-SBs9ik",
        "outputId": "c1e5e8ae-7936-4b15-f388-1b065b089a01"
      },
      "outputs": [
        {
          "name": "stdout",
          "output_type": "stream",
          "text": [
            "<class 'pandas.core.frame.DataFrame'>\n",
            "RangeIndex: 3147 entries, 0 to 3146\n",
            "Data columns (total 7 columns):\n",
            " #   Column    Non-Null Count  Dtype  \n",
            "---  ------    --------------  -----  \n",
            " 0   Date      3147 non-null   object \n",
            " 1   Close     3147 non-null   float64\n",
            " 2   Open      3147 non-null   float64\n",
            " 3   High      3147 non-null   float64\n",
            " 4   Low       3147 non-null   float64\n",
            " 5   Vol.      3147 non-null   object \n",
            " 6   Change %  3147 non-null   object \n",
            "dtypes: float64(4), object(3)\n",
            "memory usage: 172.2+ KB\n"
          ]
        }
      ],
      "source": [
        "df_litecoin.info()"
      ]
    },
    {
      "cell_type": "code",
      "execution_count": 80,
      "metadata": {
        "colab": {
          "base_uri": "https://localhost:8080/"
        },
        "id": "M2YBixAgwZw3",
        "outputId": "a8abce94-66bf-4d84-90b4-cffd2e06867a"
      },
      "outputs": [
        {
          "data": {
            "text/plain": [
              "Index(['Date', 'Close', 'Open', 'High', 'Low', 'Vol.', 'Change %'], dtype='object')"
            ]
          },
          "execution_count": 80,
          "metadata": {},
          "output_type": "execute_result"
        }
      ],
      "source": [
        "df_litecoin.columns"
      ]
    },
    {
      "cell_type": "code",
      "execution_count": 81,
      "metadata": {
        "id": "Tjru83ntwVt-"
      },
      "outputs": [],
      "source": [
        "def convert_vol_int(obj):\n",
        "    if isinstance(obj, str):\n",
        "        if obj.endswith(\"K\"):\n",
        "            return float(obj[:-1]) / 1000\n",
        "        elif obj.endswith(\"M\"):\n",
        "            return float(obj[:-1])\n",
        "        else:\n",
        "            return float(obj)\n",
        "    return obj\n",
        "\n",
        "def convert_change_int(obj):\n",
        "    if isinstance(obj, str) and obj.endswith(\"%\"):\n",
        "        return float(obj[:-1])\n",
        "    return obj"
      ]
    },
    {
      "cell_type": "code",
      "execution_count": 82,
      "metadata": {
        "id": "7gvivC81wYJB"
      },
      "outputs": [],
      "source": [
        "df_litecoin[\"Vol.\"] = df_litecoin['Vol.'].apply(convert_vol_int)\n",
        "df_litecoin['Change %'] = df_litecoin['Change %'].apply(convert_change_int)\n",
        "df_litecoin['Date'] = pd.to_datetime(df_litecoin['Date'], format='%d-%M-%Y').dt.date"
      ]
    },
    {
      "cell_type": "code",
      "execution_count": 83,
      "metadata": {
        "colab": {
          "base_uri": "https://localhost:8080/"
        },
        "id": "AlCkml20wc73",
        "outputId": "de852437-e258-44d6-b694-29a920eda88c"
      },
      "outputs": [
        {
          "name": "stdout",
          "output_type": "stream",
          "text": [
            "<class 'pandas.core.frame.DataFrame'>\n",
            "RangeIndex: 3147 entries, 0 to 3146\n",
            "Data columns (total 7 columns):\n",
            " #   Column    Non-Null Count  Dtype  \n",
            "---  ------    --------------  -----  \n",
            " 0   Date      3147 non-null   object \n",
            " 1   Close     3147 non-null   float64\n",
            " 2   Open      3147 non-null   float64\n",
            " 3   High      3147 non-null   float64\n",
            " 4   Low       3147 non-null   float64\n",
            " 5   Vol.      3147 non-null   float64\n",
            " 6   Change %  3147 non-null   float64\n",
            "dtypes: float64(6), object(1)\n",
            "memory usage: 172.2+ KB\n"
          ]
        }
      ],
      "source": [
        "df_litecoin.info()"
      ]
    },
    {
      "cell_type": "code",
      "execution_count": 84,
      "metadata": {
        "colab": {
          "base_uri": "https://localhost:8080/",
          "height": 206
        },
        "id": "nHIRBPwMLv-1",
        "outputId": "ae402f12-a902-41ab-bd75-b55f3c3cea09"
      },
      "outputs": [
        {
          "data": {
            "application/vnd.google.colaboratory.intrinsic+json": {
              "summary": "{\n  \"name\": \"df_litecoin\",\n  \"rows\": 3147,\n  \"fields\": [\n    {\n      \"column\": \"Date\",\n      \"properties\": {\n        \"dtype\": \"date\",\n        \"min\": \"2016-01-01\",\n        \"max\": \"2025-01-31\",\n        \"num_unique_values\": 310,\n        \"samples\": [\n          \"2016-01-21\",\n          \"2025-01-27\",\n          \"2024-01-05\"\n        ],\n        \"semantic_type\": \"\",\n        \"description\": \"\"\n      }\n    },\n    {\n      \"column\": \"Close\",\n      \"properties\": {\n        \"dtype\": \"number\",\n        \"std\": 57.059735763015226,\n        \"min\": 3.5,\n        \"max\": 386.82,\n        \"num_unique_values\": 2661,\n        \"samples\": [\n          79.01,\n          102.66,\n          228.9\n        ],\n        \"semantic_type\": \"\",\n        \"description\": \"\"\n      }\n    },\n    {\n      \"column\": \"Open\",\n      \"properties\": {\n        \"dtype\": \"number\",\n        \"std\": 57.10201256236044,\n        \"min\": 3.51,\n        \"max\": 387.81,\n        \"num_unique_values\": 2659,\n        \"samples\": [\n          54.62,\n          97.24,\n          111.28\n        ],\n        \"semantic_type\": \"\",\n        \"description\": \"\"\n      }\n    },\n    {\n      \"column\": \"High\",\n      \"properties\": {\n        \"dtype\": \"number\",\n        \"std\": 60.38540781341956,\n        \"min\": 3.58,\n        \"max\": 420.0,\n        \"num_unique_values\": 2675,\n        \"samples\": [\n          51.8,\n          107.49,\n          66.08\n        ],\n        \"semantic_type\": \"\",\n        \"description\": \"\"\n      }\n    },\n    {\n      \"column\": \"Low\",\n      \"properties\": {\n        \"dtype\": \"number\",\n        \"std\": 53.37951749011413,\n        \"min\": 3.26,\n        \"max\": 345.2,\n        \"num_unique_values\": 2633,\n        \"samples\": [\n          182.45,\n          76.95,\n          50.01\n        ],\n        \"semantic_type\": \"\",\n        \"description\": \"\"\n      }\n    },\n    {\n      \"column\": \"Vol.\",\n      \"properties\": {\n        \"dtype\": \"number\",\n        \"std\": 54.60565138707452,\n        \"min\": 5.9999999999999995e-05,\n        \"max\": 705.72,\n        \"num_unique_values\": 2403,\n        \"samples\": [\n          0.49055,\n          0.01828,\n          0.21944\n        ],\n        \"semantic_type\": \"\",\n        \"description\": \"\"\n      }\n    },\n    {\n      \"column\": \"Change %\",\n      \"properties\": {\n        \"dtype\": \"number\",\n        \"std\": 5.641349515032972,\n        \"min\": -38.54,\n        \"max\": 83.49,\n        \"num_unique_values\": 1417,\n        \"samples\": [\n          2.23,\n          6.16,\n          -7.21\n        ],\n        \"semantic_type\": \"\",\n        \"description\": \"\"\n      }\n    }\n  ]\n}",
              "type": "dataframe",
              "variable_name": "df_litecoin"
            },
            "text/html": [
              "\n",
              "  <div id=\"df-6b2ac818-5f84-44ee-b490-23533c17e3f1\" class=\"colab-df-container\">\n",
              "    <div>\n",
              "<style scoped>\n",
              "    .dataframe tbody tr th:only-of-type {\n",
              "        vertical-align: middle;\n",
              "    }\n",
              "\n",
              "    .dataframe tbody tr th {\n",
              "        vertical-align: top;\n",
              "    }\n",
              "\n",
              "    .dataframe thead th {\n",
              "        text-align: right;\n",
              "    }\n",
              "</style>\n",
              "<table border=\"1\" class=\"dataframe\">\n",
              "  <thead>\n",
              "    <tr style=\"text-align: right;\">\n",
              "      <th></th>\n",
              "      <th>Date</th>\n",
              "      <th>Close</th>\n",
              "      <th>Open</th>\n",
              "      <th>High</th>\n",
              "      <th>Low</th>\n",
              "      <th>Vol.</th>\n",
              "      <th>Change %</th>\n",
              "    </tr>\n",
              "  </thead>\n",
              "  <tbody>\n",
              "    <tr>\n",
              "      <th>0</th>\n",
              "      <td>2025-01-05</td>\n",
              "      <td>83.76</td>\n",
              "      <td>84.40</td>\n",
              "      <td>84.94</td>\n",
              "      <td>83.58</td>\n",
              "      <td>0.91001</td>\n",
              "      <td>-0.76</td>\n",
              "    </tr>\n",
              "    <tr>\n",
              "      <th>1</th>\n",
              "      <td>2025-01-04</td>\n",
              "      <td>84.41</td>\n",
              "      <td>83.43</td>\n",
              "      <td>85.09</td>\n",
              "      <td>81.64</td>\n",
              "      <td>0.93359</td>\n",
              "      <td>1.19</td>\n",
              "    </tr>\n",
              "    <tr>\n",
              "      <th>2</th>\n",
              "      <td>2025-01-03</td>\n",
              "      <td>83.41</td>\n",
              "      <td>81.53</td>\n",
              "      <td>84.65</td>\n",
              "      <td>80.18</td>\n",
              "      <td>0.96277</td>\n",
              "      <td>2.30</td>\n",
              "    </tr>\n",
              "    <tr>\n",
              "      <th>3</th>\n",
              "      <td>2025-01-02</td>\n",
              "      <td>81.54</td>\n",
              "      <td>84.48</td>\n",
              "      <td>88.49</td>\n",
              "      <td>81.02</td>\n",
              "      <td>1.44000</td>\n",
              "      <td>-3.49</td>\n",
              "    </tr>\n",
              "    <tr>\n",
              "      <th>4</th>\n",
              "      <td>2025-01-01</td>\n",
              "      <td>84.48</td>\n",
              "      <td>82.95</td>\n",
              "      <td>85.88</td>\n",
              "      <td>82.89</td>\n",
              "      <td>0.73937</td>\n",
              "      <td>1.84</td>\n",
              "    </tr>\n",
              "  </tbody>\n",
              "</table>\n",
              "</div>\n",
              "    <div class=\"colab-df-buttons\">\n",
              "\n",
              "  <div class=\"colab-df-container\">\n",
              "    <button class=\"colab-df-convert\" onclick=\"convertToInteractive('df-6b2ac818-5f84-44ee-b490-23533c17e3f1')\"\n",
              "            title=\"Convert this dataframe to an interactive table.\"\n",
              "            style=\"display:none;\">\n",
              "\n",
              "  <svg xmlns=\"http://www.w3.org/2000/svg\" height=\"24px\" viewBox=\"0 -960 960 960\">\n",
              "    <path d=\"M120-120v-720h720v720H120Zm60-500h600v-160H180v160Zm220 220h160v-160H400v160Zm0 220h160v-160H400v160ZM180-400h160v-160H180v160Zm440 0h160v-160H620v160ZM180-180h160v-160H180v160Zm440 0h160v-160H620v160Z\"/>\n",
              "  </svg>\n",
              "    </button>\n",
              "\n",
              "  <style>\n",
              "    .colab-df-container {\n",
              "      display:flex;\n",
              "      gap: 12px;\n",
              "    }\n",
              "\n",
              "    .colab-df-convert {\n",
              "      background-color: #E8F0FE;\n",
              "      border: none;\n",
              "      border-radius: 50%;\n",
              "      cursor: pointer;\n",
              "      display: none;\n",
              "      fill: #1967D2;\n",
              "      height: 32px;\n",
              "      padding: 0 0 0 0;\n",
              "      width: 32px;\n",
              "    }\n",
              "\n",
              "    .colab-df-convert:hover {\n",
              "      background-color: #E2EBFA;\n",
              "      box-shadow: 0px 1px 2px rgba(60, 64, 67, 0.3), 0px 1px 3px 1px rgba(60, 64, 67, 0.15);\n",
              "      fill: #174EA6;\n",
              "    }\n",
              "\n",
              "    .colab-df-buttons div {\n",
              "      margin-bottom: 4px;\n",
              "    }\n",
              "\n",
              "    [theme=dark] .colab-df-convert {\n",
              "      background-color: #3B4455;\n",
              "      fill: #D2E3FC;\n",
              "    }\n",
              "\n",
              "    [theme=dark] .colab-df-convert:hover {\n",
              "      background-color: #434B5C;\n",
              "      box-shadow: 0px 1px 3px 1px rgba(0, 0, 0, 0.15);\n",
              "      filter: drop-shadow(0px 1px 2px rgba(0, 0, 0, 0.3));\n",
              "      fill: #FFFFFF;\n",
              "    }\n",
              "  </style>\n",
              "\n",
              "    <script>\n",
              "      const buttonEl =\n",
              "        document.querySelector('#df-6b2ac818-5f84-44ee-b490-23533c17e3f1 button.colab-df-convert');\n",
              "      buttonEl.style.display =\n",
              "        google.colab.kernel.accessAllowed ? 'block' : 'none';\n",
              "\n",
              "      async function convertToInteractive(key) {\n",
              "        const element = document.querySelector('#df-6b2ac818-5f84-44ee-b490-23533c17e3f1');\n",
              "        const dataTable =\n",
              "          await google.colab.kernel.invokeFunction('convertToInteractive',\n",
              "                                                    [key], {});\n",
              "        if (!dataTable) return;\n",
              "\n",
              "        const docLinkHtml = 'Like what you see? Visit the ' +\n",
              "          '<a target=\"_blank\" href=https://colab.research.google.com/notebooks/data_table.ipynb>data table notebook</a>'\n",
              "          + ' to learn more about interactive tables.';\n",
              "        element.innerHTML = '';\n",
              "        dataTable['output_type'] = 'display_data';\n",
              "        await google.colab.output.renderOutput(dataTable, element);\n",
              "        const docLink = document.createElement('div');\n",
              "        docLink.innerHTML = docLinkHtml;\n",
              "        element.appendChild(docLink);\n",
              "      }\n",
              "    </script>\n",
              "  </div>\n",
              "\n",
              "\n",
              "<div id=\"df-492356c3-4b4a-40b9-8a47-57e900d11df6\">\n",
              "  <button class=\"colab-df-quickchart\" onclick=\"quickchart('df-492356c3-4b4a-40b9-8a47-57e900d11df6')\"\n",
              "            title=\"Suggest charts\"\n",
              "            style=\"display:none;\">\n",
              "\n",
              "<svg xmlns=\"http://www.w3.org/2000/svg\" height=\"24px\"viewBox=\"0 0 24 24\"\n",
              "     width=\"24px\">\n",
              "    <g>\n",
              "        <path d=\"M19 3H5c-1.1 0-2 .9-2 2v14c0 1.1.9 2 2 2h14c1.1 0 2-.9 2-2V5c0-1.1-.9-2-2-2zM9 17H7v-7h2v7zm4 0h-2V7h2v10zm4 0h-2v-4h2v4z\"/>\n",
              "    </g>\n",
              "</svg>\n",
              "  </button>\n",
              "\n",
              "<style>\n",
              "  .colab-df-quickchart {\n",
              "      --bg-color: #E8F0FE;\n",
              "      --fill-color: #1967D2;\n",
              "      --hover-bg-color: #E2EBFA;\n",
              "      --hover-fill-color: #174EA6;\n",
              "      --disabled-fill-color: #AAA;\n",
              "      --disabled-bg-color: #DDD;\n",
              "  }\n",
              "\n",
              "  [theme=dark] .colab-df-quickchart {\n",
              "      --bg-color: #3B4455;\n",
              "      --fill-color: #D2E3FC;\n",
              "      --hover-bg-color: #434B5C;\n",
              "      --hover-fill-color: #FFFFFF;\n",
              "      --disabled-bg-color: #3B4455;\n",
              "      --disabled-fill-color: #666;\n",
              "  }\n",
              "\n",
              "  .colab-df-quickchart {\n",
              "    background-color: var(--bg-color);\n",
              "    border: none;\n",
              "    border-radius: 50%;\n",
              "    cursor: pointer;\n",
              "    display: none;\n",
              "    fill: var(--fill-color);\n",
              "    height: 32px;\n",
              "    padding: 0;\n",
              "    width: 32px;\n",
              "  }\n",
              "\n",
              "  .colab-df-quickchart:hover {\n",
              "    background-color: var(--hover-bg-color);\n",
              "    box-shadow: 0 1px 2px rgba(60, 64, 67, 0.3), 0 1px 3px 1px rgba(60, 64, 67, 0.15);\n",
              "    fill: var(--button-hover-fill-color);\n",
              "  }\n",
              "\n",
              "  .colab-df-quickchart-complete:disabled,\n",
              "  .colab-df-quickchart-complete:disabled:hover {\n",
              "    background-color: var(--disabled-bg-color);\n",
              "    fill: var(--disabled-fill-color);\n",
              "    box-shadow: none;\n",
              "  }\n",
              "\n",
              "  .colab-df-spinner {\n",
              "    border: 2px solid var(--fill-color);\n",
              "    border-color: transparent;\n",
              "    border-bottom-color: var(--fill-color);\n",
              "    animation:\n",
              "      spin 1s steps(1) infinite;\n",
              "  }\n",
              "\n",
              "  @keyframes spin {\n",
              "    0% {\n",
              "      border-color: transparent;\n",
              "      border-bottom-color: var(--fill-color);\n",
              "      border-left-color: var(--fill-color);\n",
              "    }\n",
              "    20% {\n",
              "      border-color: transparent;\n",
              "      border-left-color: var(--fill-color);\n",
              "      border-top-color: var(--fill-color);\n",
              "    }\n",
              "    30% {\n",
              "      border-color: transparent;\n",
              "      border-left-color: var(--fill-color);\n",
              "      border-top-color: var(--fill-color);\n",
              "      border-right-color: var(--fill-color);\n",
              "    }\n",
              "    40% {\n",
              "      border-color: transparent;\n",
              "      border-right-color: var(--fill-color);\n",
              "      border-top-color: var(--fill-color);\n",
              "    }\n",
              "    60% {\n",
              "      border-color: transparent;\n",
              "      border-right-color: var(--fill-color);\n",
              "    }\n",
              "    80% {\n",
              "      border-color: transparent;\n",
              "      border-right-color: var(--fill-color);\n",
              "      border-bottom-color: var(--fill-color);\n",
              "    }\n",
              "    90% {\n",
              "      border-color: transparent;\n",
              "      border-bottom-color: var(--fill-color);\n",
              "    }\n",
              "  }\n",
              "</style>\n",
              "\n",
              "  <script>\n",
              "    async function quickchart(key) {\n",
              "      const quickchartButtonEl =\n",
              "        document.querySelector('#' + key + ' button');\n",
              "      quickchartButtonEl.disabled = true;  // To prevent multiple clicks.\n",
              "      quickchartButtonEl.classList.add('colab-df-spinner');\n",
              "      try {\n",
              "        const charts = await google.colab.kernel.invokeFunction(\n",
              "            'suggestCharts', [key], {});\n",
              "      } catch (error) {\n",
              "        console.error('Error during call to suggestCharts:', error);\n",
              "      }\n",
              "      quickchartButtonEl.classList.remove('colab-df-spinner');\n",
              "      quickchartButtonEl.classList.add('colab-df-quickchart-complete');\n",
              "    }\n",
              "    (() => {\n",
              "      let quickchartButtonEl =\n",
              "        document.querySelector('#df-492356c3-4b4a-40b9-8a47-57e900d11df6 button');\n",
              "      quickchartButtonEl.style.display =\n",
              "        google.colab.kernel.accessAllowed ? 'block' : 'none';\n",
              "    })();\n",
              "  </script>\n",
              "</div>\n",
              "\n",
              "    </div>\n",
              "  </div>\n"
            ],
            "text/plain": [
              "         Date  Close   Open   High    Low     Vol.  Change %\n",
              "0  2025-01-05  83.76  84.40  84.94  83.58  0.91001     -0.76\n",
              "1  2025-01-04  84.41  83.43  85.09  81.64  0.93359      1.19\n",
              "2  2025-01-03  83.41  81.53  84.65  80.18  0.96277      2.30\n",
              "3  2025-01-02  81.54  84.48  88.49  81.02  1.44000     -3.49\n",
              "4  2025-01-01  84.48  82.95  85.88  82.89  0.73937      1.84"
            ]
          },
          "execution_count": 84,
          "metadata": {},
          "output_type": "execute_result"
        }
      ],
      "source": [
        "df_litecoin.head()"
      ]
    },
    {
      "cell_type": "code",
      "execution_count": 85,
      "metadata": {
        "id": "XsKnZ_D5wfQw"
      },
      "outputs": [],
      "source": [
        "df_litecoin.columns = ['Date','Close', 'Open', 'High', 'Low', 'Volume', 'Change']"
      ]
    },
    {
      "cell_type": "code",
      "execution_count": 86,
      "metadata": {
        "colab": {
          "base_uri": "https://localhost:8080/",
          "height": 590
        },
        "id": "1AzsrBdJwhd7",
        "outputId": "0cefb638-3319-4b80-a5c6-4da390b90b14"
      },
      "outputs": [
        {
          "data": {
            "image/png": "[encoded data removed]",
            "text/plain": [
              "<Figure size 800x575 with 4 Axes>"
            ]
          },
          "metadata": {},
          "output_type": "display_data"
        }
      ],
      "source": [
        "import pandas as pd\n",
        "import mplfinance as mpf\n",
        "\n",
        "df_litecoin['Date'] = pd.to_datetime(df_litecoin['Date'])\n",
        "df_litecoin.set_index('Date', inplace=True)\n",
        "\n",
        "mpf.plot(df_litecoin.tail(50),\n",
        "         type='candle',\n",
        "         style='charles',\n",
        "         volume=True,\n",
        "         title='LTCUSDT Last 50 Days',\n",
        "         mav=(10, 20, 30))\n"
      ]
    },
    {
      "cell_type": "code",
      "execution_count": 87,
      "metadata": {
        "colab": {
          "base_uri": "https://localhost:8080/",
          "height": 526
        },
        "id": "SWb7uyPnwm7S",
        "outputId": "a9007b1b-3b14-4419-a39e-09eaf535e0a1"
      },
      "outputs": [
        {
          "data": {
            "image/png": "[encoded data removed]",
            "text/plain": [
              "<Figure size 800x575 with 2 Axes>"
            ]
          },
          "metadata": {},
          "output_type": "display_data"
        }
      ],
      "source": [
        "mpf.plot(df_litecoin, type='line')"
      ]
    },
    {
      "cell_type": "code",
      "execution_count": 88,
      "metadata": {
        "colab": {
          "base_uri": "https://localhost:8080/",
          "height": 272
        },
        "id": "e6MpiCvQwpYf",
        "outputId": "6d2c7ebd-14ec-4719-a915-cbdd9690c811"
      },
      "outputs": [
        {
          "data": {
            "text/html": [
              "<div>\n",
              "<style scoped>\n",
              "    .dataframe tbody tr th:only-of-type {\n",
              "        vertical-align: middle;\n",
              "    }\n",
              "\n",
              "    .dataframe tbody tr th {\n",
              "        vertical-align: top;\n",
              "    }\n",
              "\n",
              "    .dataframe thead th {\n",
              "        text-align: right;\n",
              "    }\n",
              "</style>\n",
              "<table border=\"1\" class=\"dataframe\">\n",
              "  <thead>\n",
              "    <tr style=\"text-align: right;\">\n",
              "      <th></th>\n",
              "      <th>0</th>\n",
              "    </tr>\n",
              "  </thead>\n",
              "  <tbody>\n",
              "    <tr>\n",
              "      <th>Close</th>\n",
              "      <td>0</td>\n",
              "    </tr>\n",
              "    <tr>\n",
              "      <th>Open</th>\n",
              "      <td>0</td>\n",
              "    </tr>\n",
              "    <tr>\n",
              "      <th>High</th>\n",
              "      <td>0</td>\n",
              "    </tr>\n",
              "    <tr>\n",
              "      <th>Low</th>\n",
              "      <td>0</td>\n",
              "    </tr>\n",
              "    <tr>\n",
              "      <th>Volume</th>\n",
              "      <td>0</td>\n",
              "    </tr>\n",
              "    <tr>\n",
              "      <th>Change</th>\n",
              "      <td>0</td>\n",
              "    </tr>\n",
              "  </tbody>\n",
              "</table>\n",
              "</div><br><label><b>dtype:</b> int64</label>"
            ],
            "text/plain": [
              "Close     0\n",
              "Open      0\n",
              "High      0\n",
              "Low       0\n",
              "Volume    0\n",
              "Change    0\n",
              "dtype: int64"
            ]
          },
          "execution_count": 88,
          "metadata": {},
          "output_type": "execute_result"
        }
      ],
      "source": [
        "df_litecoin.isnull().sum()"
      ]
    },
    {
      "cell_type": "code",
      "execution_count": 89,
      "metadata": {
        "colab": {
          "base_uri": "https://localhost:8080/"
        },
        "id": "hjsdcq-l08Pi",
        "outputId": "3dce0fc7-084a-4e8a-9fdd-5616e2ed5496"
      },
      "outputs": [
        {
          "data": {
            "text/plain": [
              "np.int64(0)"
            ]
          },
          "execution_count": 89,
          "metadata": {},
          "output_type": "execute_result"
        }
      ],
      "source": [
        "df_litecoin.duplicated().sum()"
      ]
    },
    {
      "cell_type": "code",
      "execution_count": 90,
      "metadata": {
        "id": "7_2l80lkMoVO"
      },
      "outputs": [],
      "source": [
        "df_litecoin.reset_index(inplace=True)"
      ]
    },
    {
      "cell_type": "code",
      "execution_count": 91,
      "metadata": {
        "colab": {
          "base_uri": "https://localhost:8080/"
        },
        "id": "uB1n0bCEM7IF",
        "outputId": "40bba6e1-becc-48ea-c762-d77cab4f7921"
      },
      "outputs": [
        {
          "name": "stdout",
          "output_type": "stream",
          "text": [
            "datetime64[ns]\n"
          ]
        }
      ],
      "source": [
        "print(df_litecoin['Date'].dtype)"
      ]
    },
    {
      "cell_type": "code",
      "execution_count": 92,
      "metadata": {
        "colab": {
          "base_uri": "https://localhost:8080/",
          "height": 696
        },
        "id": "1ytAK-WWyChs",
        "outputId": "d85553e9-93f3-4efe-9719-5330d2258a15"
      },
      "outputs": [
        {
          "data": {
            "text/plain": [
              "<Axes: >"
            ]
          },
          "execution_count": 92,
          "metadata": {},
          "output_type": "execute_result"
        },
        {
          "data": {
            "image/png": "[encoded data removed]",
            "text/plain": [
              "<Figure size 1000x800 with 2 Axes>"
            ]
          },
          "metadata": {},
          "output_type": "display_data"
        }
      ],
      "source": [
        "corr = df_litecoin.corr(numeric_only=True)\n",
        "plt.figure(figsize=(10, 8))\n",
        "sns.heatmap(corr, annot=True, cmap='coolwarm')"
      ]
    },
    {
      "cell_type": "code",
      "execution_count": 93,
      "metadata": {
        "colab": {
          "base_uri": "https://localhost:8080/"
        },
        "id": "sGuiu41Zz0eL",
        "outputId": "c33355de-6424-4315-ea36-34ab3759b745"
      },
      "outputs": [
        {
          "data": {
            "text/plain": [
              "array([[0., 1., 1., 1., 1., 1.],\n",
              "       [0., 0., 1., 1., 1., 1.],\n",
              "       [0., 0., 0., 1., 1., 1.],\n",
              "       [0., 0., 0., 0., 1., 1.],\n",
              "       [0., 0., 0., 0., 0., 1.],\n",
              "       [0., 0., 0., 0., 0., 0.]])"
            ]
          },
          "execution_count": 93,
          "metadata": {},
          "output_type": "execute_result"
        }
      ],
      "source": [
        "np.triu(np.ones(corr.shape), k=1)"
      ]
    },
    {
      "cell_type": "code",
      "execution_count": 94,
      "metadata": {
        "colab": {
          "base_uri": "https://localhost:8080/"
        },
        "id": "adMWgaTGyZEz",
        "outputId": "73ba6b9f-9ad5-43d3-c3c9-0fb2c774449e"
      },
      "outputs": [
        {
          "data": {
            "text/plain": [
              "['Open', 'High', 'Low']"
            ]
          },
          "execution_count": 94,
          "metadata": {},
          "output_type": "execute_result"
        }
      ],
      "source": [
        "threshold = 0.9\n",
        "upper = corr.where(np.triu(np.ones(corr.shape), k=1).astype(bool))\n",
        "to_drop = [column for column in upper.columns if any(upper[column].abs() > threshold)]\n",
        "to_drop"
      ]
    },
    {
      "cell_type": "markdown",
      "metadata": {
        "id": "IOPL3ET00AAg"
      },
      "source": [
        "I am dropping ['Open', 'High', 'Low'] as they are highly correlated to Close column."
      ]
    },
    {
      "cell_type": "code",
      "execution_count": 102,
      "metadata": {
        "id": "MmfZTXg1yvd1"
      },
      "outputs": [],
      "source": [
        "X = df_litecoin\n",
        "y = df_litecoin['Close'].shift(-1)"
      ]
    },
    {
      "cell_type": "code",
      "execution_count": 103,
      "metadata": {
        "id": "K66SMXUENgBB"
      },
      "outputs": [],
      "source": [
        "X_train, X_test, y_train, y_test = train_test_split(X, y, shuffle=False, test_size=0.2)"
      ]
    },
    {
      "cell_type": "code",
      "execution_count": 104,
      "metadata": {
        "colab": {
          "base_uri": "https://localhost:8080/",
          "height": 424
        },
        "id": "aSzyB5chN7rR",
        "outputId": "1f7f26a5-093f-41dd-8464-1df537e0a7a1"
      },
      "outputs": [
        {
          "data": {
            "application/vnd.google.colaboratory.intrinsic+json": {
              "summary": "{\n  \"name\": \"X_train\",\n  \"rows\": 2517,\n  \"fields\": [\n    {\n      \"column\": \"Date\",\n      \"properties\": {\n        \"dtype\": \"date\",\n        \"min\": \"2018-01-01 00:00:00\",\n        \"max\": \"2025-01-31 00:00:00\",\n        \"num_unique_values\": 248,\n        \"samples\": [\n          \"2024-01-29 00:00:00\",\n          \"2025-01-30 00:00:00\",\n          \"2020-01-04 00:00:00\"\n        ],\n        \"semantic_type\": \"\",\n        \"description\": \"\"\n      }\n    },\n    {\n      \"column\": \"Close\",\n      \"properties\": {\n        \"dtype\": \"number\",\n        \"std\": 49.180466542130866,\n        \"min\": 23.12,\n        \"max\": 386.82,\n        \"num_unique_values\": 2238,\n        \"samples\": [\n          39.56,\n          83.39,\n          133.98\n        ],\n        \"semantic_type\": \"\",\n        \"description\": \"\"\n      }\n    },\n    {\n      \"column\": \"Open\",\n      \"properties\": {\n        \"dtype\": \"number\",\n        \"std\": 49.22224624936833,\n        \"min\": 23.12,\n        \"max\": 387.81,\n        \"num_unique_values\": 2234,\n        \"samples\": [\n          140.1,\n          66.99,\n          73.86\n        ],\n        \"semantic_type\": \"\",\n        \"description\": \"\"\n      }\n    },\n    {\n      \"column\": \"High\",\n      \"properties\": {\n        \"dtype\": \"number\",\n        \"std\": 51.91556153711096,\n        \"min\": 23.88,\n        \"max\": 412.8,\n        \"num_unique_values\": 2254,\n        \"samples\": [\n          33.31,\n          142.91,\n          54.18\n        ],\n        \"semantic_type\": \"\",\n        \"description\": \"\"\n      }\n    },\n    {\n      \"column\": \"Low\",\n      \"properties\": {\n        \"dtype\": \"number\",\n        \"std\": 46.17783099368032,\n        \"min\": 22.36,\n        \"max\": 345.2,\n        \"num_unique_values\": 2225,\n        \"samples\": [\n          66.85,\n          67.05,\n          43.86\n        ],\n        \"semantic_type\": \"\",\n        \"description\": \"\"\n      }\n    },\n    {\n      \"column\": \"Volume\",\n      \"properties\": {\n        \"dtype\": \"number\",\n        \"std\": 60.425183042736506,\n        \"min\": 0.12065000000000001,\n        \"max\": 705.72,\n        \"num_unique_values\": 2062,\n        \"samples\": [\n          250.63,\n          2.73,\n          0.62212\n        ],\n        \"semantic_type\": \"\",\n        \"description\": \"\"\n      }\n    },\n    {\n      \"column\": \"Change\",\n      \"properties\": {\n        \"dtype\": \"number\",\n        \"std\": 4.825781965460639,\n        \"min\": -38.54,\n        \"max\": 29.45,\n        \"num_unique_values\": 1246,\n        \"samples\": [\n          -1.14,\n          0.58,\n          -1.47\n        ],\n        \"semantic_type\": \"\",\n        \"description\": \"\"\n      }\n    }\n  ]\n}",
              "type": "dataframe",
              "variable_name": "X_train"
            },
            "text/html": [
              "\n",
              "  <div id=\"df-825953fe-243e-45c2-a721-bcc34ca00dee\" class=\"colab-df-container\">\n",
              "    <div>\n",
              "<style scoped>\n",
              "    .dataframe tbody tr th:only-of-type {\n",
              "        vertical-align: middle;\n",
              "    }\n",
              "\n",
              "    .dataframe tbody tr th {\n",
              "        vertical-align: top;\n",
              "    }\n",
              "\n",
              "    .dataframe thead th {\n",
              "        text-align: right;\n",
              "    }\n",
              "</style>\n",
              "<table border=\"1\" class=\"dataframe\">\n",
              "  <thead>\n",
              "    <tr style=\"text-align: right;\">\n",
              "      <th></th>\n",
              "      <th>Date</th>\n",
              "      <th>Close</th>\n",
              "      <th>Open</th>\n",
              "      <th>High</th>\n",
              "      <th>Low</th>\n",
              "      <th>Volume</th>\n",
              "      <th>Change</th>\n",
              "    </tr>\n",
              "  </thead>\n",
              "  <tbody>\n",
              "    <tr>\n",
              "      <th>0</th>\n",
              "      <td>2025-01-05</td>\n",
              "      <td>83.76</td>\n",
              "      <td>84.40</td>\n",
              "      <td>84.94</td>\n",
              "      <td>83.58</td>\n",
              "      <td>0.91001</td>\n",
              "      <td>-0.76</td>\n",
              "    </tr>\n",
              "    <tr>\n",
              "      <th>1</th>\n",
              "      <td>2025-01-04</td>\n",
              "      <td>84.41</td>\n",
              "      <td>83.43</td>\n",
              "      <td>85.09</td>\n",
              "      <td>81.64</td>\n",
              "      <td>0.93359</td>\n",
              "      <td>1.19</td>\n",
              "    </tr>\n",
              "    <tr>\n",
              "      <th>2</th>\n",
              "      <td>2025-01-03</td>\n",
              "      <td>83.41</td>\n",
              "      <td>81.53</td>\n",
              "      <td>84.65</td>\n",
              "      <td>80.18</td>\n",
              "      <td>0.96277</td>\n",
              "      <td>2.30</td>\n",
              "    </tr>\n",
              "    <tr>\n",
              "      <th>3</th>\n",
              "      <td>2025-01-02</td>\n",
              "      <td>81.54</td>\n",
              "      <td>84.48</td>\n",
              "      <td>88.49</td>\n",
              "      <td>81.02</td>\n",
              "      <td>1.44000</td>\n",
              "      <td>-3.49</td>\n",
              "    </tr>\n",
              "    <tr>\n",
              "      <th>4</th>\n",
              "      <td>2025-01-01</td>\n",
              "      <td>84.48</td>\n",
              "      <td>82.95</td>\n",
              "      <td>85.88</td>\n",
              "      <td>82.89</td>\n",
              "      <td>0.73937</td>\n",
              "      <td>1.84</td>\n",
              "    </tr>\n",
              "    <tr>\n",
              "      <th>...</th>\n",
              "      <td>...</td>\n",
              "      <td>...</td>\n",
              "      <td>...</td>\n",
              "      <td>...</td>\n",
              "      <td>...</td>\n",
              "      <td>...</td>\n",
              "      <td>...</td>\n",
              "    </tr>\n",
              "    <tr>\n",
              "      <th>2512</th>\n",
              "      <td>2018-01-20</td>\n",
              "      <td>139.79</td>\n",
              "      <td>135.16</td>\n",
              "      <td>140.57</td>\n",
              "      <td>132.77</td>\n",
              "      <td>0.89222</td>\n",
              "      <td>3.42</td>\n",
              "    </tr>\n",
              "    <tr>\n",
              "      <th>2513</th>\n",
              "      <td>2018-01-19</td>\n",
              "      <td>135.16</td>\n",
              "      <td>136.07</td>\n",
              "      <td>137.66</td>\n",
              "      <td>133.07</td>\n",
              "      <td>0.88565</td>\n",
              "      <td>-0.66</td>\n",
              "    </tr>\n",
              "    <tr>\n",
              "      <th>2514</th>\n",
              "      <td>2018-01-18</td>\n",
              "      <td>136.06</td>\n",
              "      <td>132.65</td>\n",
              "      <td>137.51</td>\n",
              "      <td>129.18</td>\n",
              "      <td>1.17000</td>\n",
              "      <td>2.59</td>\n",
              "    </tr>\n",
              "    <tr>\n",
              "      <th>2515</th>\n",
              "      <td>2018-01-17</td>\n",
              "      <td>132.63</td>\n",
              "      <td>139.26</td>\n",
              "      <td>141.44</td>\n",
              "      <td>131.64</td>\n",
              "      <td>1.02000</td>\n",
              "      <td>-4.76</td>\n",
              "    </tr>\n",
              "    <tr>\n",
              "      <th>2516</th>\n",
              "      <td>2018-01-16</td>\n",
              "      <td>139.26</td>\n",
              "      <td>139.49</td>\n",
              "      <td>140.92</td>\n",
              "      <td>134.72</td>\n",
              "      <td>1.03000</td>\n",
              "      <td>-0.17</td>\n",
              "    </tr>\n",
              "  </tbody>\n",
              "</table>\n",
              "<p>2517 rows × 7 columns</p>\n",
              "</div>\n",
              "    <div class=\"colab-df-buttons\">\n",
              "\n",
              "  <div class=\"colab-df-container\">\n",
              "    <button class=\"colab-df-convert\" onclick=\"convertToInteractive('df-825953fe-243e-45c2-a721-bcc34ca00dee')\"\n",
              "            title=\"Convert this dataframe to an interactive table.\"\n",
              "            style=\"display:none;\">\n",
              "\n",
              "  <svg xmlns=\"http://www.w3.org/2000/svg\" height=\"24px\" viewBox=\"0 -960 960 960\">\n",
              "    <path d=\"M120-120v-720h720v720H120Zm60-500h600v-160H180v160Zm220 220h160v-160H400v160Zm0 220h160v-160H400v160ZM180-400h160v-160H180v160Zm440 0h160v-160H620v160ZM180-180h160v-160H180v160Zm440 0h160v-160H620v160Z\"/>\n",
              "  </svg>\n",
              "    </button>\n",
              "\n",
              "  <style>\n",
              "    .colab-df-container {\n",
              "      display:flex;\n",
              "      gap: 12px;\n",
              "    }\n",
              "\n",
              "    .colab-df-convert {\n",
              "      background-color: #E8F0FE;\n",
              "      border: none;\n",
              "      border-radius: 50%;\n",
              "      cursor: pointer;\n",
              "      display: none;\n",
              "      fill: #1967D2;\n",
              "      height: 32px;\n",
              "      padding: 0 0 0 0;\n",
              "      width: 32px;\n",
              "    }\n",
              "\n",
              "    .colab-df-convert:hover {\n",
              "      background-color: #E2EBFA;\n",
              "      box-shadow: 0px 1px 2px rgba(60, 64, 67, 0.3), 0px 1px 3px 1px rgba(60, 64, 67, 0.15);\n",
              "      fill: #174EA6;\n",
              "    }\n",
              "\n",
              "    .colab-df-buttons div {\n",
              "      margin-bottom: 4px;\n",
              "    }\n",
              "\n",
              "    [theme=dark] .colab-df-convert {\n",
              "      background-color: #3B4455;\n",
              "      fill: #D2E3FC;\n",
              "    }\n",
              "\n",
              "    [theme=dark] .colab-df-convert:hover {\n",
              "      background-color: #434B5C;\n",
              "      box-shadow: 0px 1px 3px 1px rgba(0, 0, 0, 0.15);\n",
              "      filter: drop-shadow(0px 1px 2px rgba(0, 0, 0, 0.3));\n",
              "      fill: #FFFFFF;\n",
              "    }\n",
              "  </style>\n",
              "\n",
              "    <script>\n",
              "      const buttonEl =\n",
              "        document.querySelector('#df-825953fe-243e-45c2-a721-bcc34ca00dee button.colab-df-convert');\n",
              "      buttonEl.style.display =\n",
              "        google.colab.kernel.accessAllowed ? 'block' : 'none';\n",
              "\n",
              "      async function convertToInteractive(key) {\n",
              "        const element = document.querySelector('#df-825953fe-243e-45c2-a721-bcc34ca00dee');\n",
              "        const dataTable =\n",
              "          await google.colab.kernel.invokeFunction('convertToInteractive',\n",
              "                                                    [key], {});\n",
              "        if (!dataTable) return;\n",
              "\n",
              "        const docLinkHtml = 'Like what you see? Visit the ' +\n",
              "          '<a target=\"_blank\" href=https://colab.research.google.com/notebooks/data_table.ipynb>data table notebook</a>'\n",
              "          + ' to learn more about interactive tables.';\n",
              "        element.innerHTML = '';\n",
              "        dataTable['output_type'] = 'display_data';\n",
              "        await google.colab.output.renderOutput(dataTable, element);\n",
              "        const docLink = document.createElement('div');\n",
              "        docLink.innerHTML = docLinkHtml;\n",
              "        element.appendChild(docLink);\n",
              "      }\n",
              "    </script>\n",
              "  </div>\n",
              "\n",
              "\n",
              "<div id=\"df-831df4f9-425e-49d0-ada5-5cf4839b6657\">\n",
              "  <button class=\"colab-df-quickchart\" onclick=\"quickchart('df-831df4f9-425e-49d0-ada5-5cf4839b6657')\"\n",
              "            title=\"Suggest charts\"\n",
              "            style=\"display:none;\">\n",
              "\n",
              "<svg xmlns=\"http://www.w3.org/2000/svg\" height=\"24px\"viewBox=\"0 0 24 24\"\n",
              "     width=\"24px\">\n",
              "    <g>\n",
              "        <path d=\"M19 3H5c-1.1 0-2 .9-2 2v14c0 1.1.9 2 2 2h14c1.1 0 2-.9 2-2V5c0-1.1-.9-2-2-2zM9 17H7v-7h2v7zm4 0h-2V7h2v10zm4 0h-2v-4h2v4z\"/>\n",
              "    </g>\n",
              "</svg>\n",
              "  </button>\n",
              "\n",
              "<style>\n",
              "  .colab-df-quickchart {\n",
              "      --bg-color: #E8F0FE;\n",
              "      --fill-color: #1967D2;\n",
              "      --hover-bg-color: #E2EBFA;\n",
              "      --hover-fill-color: #174EA6;\n",
              "      --disabled-fill-color: #AAA;\n",
              "      --disabled-bg-color: #DDD;\n",
              "  }\n",
              "\n",
              "  [theme=dark] .colab-df-quickchart {\n",
              "      --bg-color: #3B4455;\n",
              "      --fill-color: #D2E3FC;\n",
              "      --hover-bg-color: #434B5C;\n",
              "      --hover-fill-color: #FFFFFF;\n",
              "      --disabled-bg-color: #3B4455;\n",
              "      --disabled-fill-color: #666;\n",
              "  }\n",
              "\n",
              "  .colab-df-quickchart {\n",
              "    background-color: var(--bg-color);\n",
              "    border: none;\n",
              "    border-radius: 50%;\n",
              "    cursor: pointer;\n",
              "    display: none;\n",
              "    fill: var(--fill-color);\n",
              "    height: 32px;\n",
              "    padding: 0;\n",
              "    width: 32px;\n",
              "  }\n",
              "\n",
              "  .colab-df-quickchart:hover {\n",
              "    background-color: var(--hover-bg-color);\n",
              "    box-shadow: 0 1px 2px rgba(60, 64, 67, 0.3), 0 1px 3px 1px rgba(60, 64, 67, 0.15);\n",
              "    fill: var(--button-hover-fill-color);\n",
              "  }\n",
              "\n",
              "  .colab-df-quickchart-complete:disabled,\n",
              "  .colab-df-quickchart-complete:disabled:hover {\n",
              "    background-color: var(--disabled-bg-color);\n",
              "    fill: var(--disabled-fill-color);\n",
              "    box-shadow: none;\n",
              "  }\n",
              "\n",
              "  .colab-df-spinner {\n",
              "    border: 2px solid var(--fill-color);\n",
              "    border-color: transparent;\n",
              "    border-bottom-color: var(--fill-color);\n",
              "    animation:\n",
              "      spin 1s steps(1) infinite;\n",
              "  }\n",
              "\n",
              "  @keyframes spin {\n",
              "    0% {\n",
              "      border-color: transparent;\n",
              "      border-bottom-color: var(--fill-color);\n",
              "      border-left-color: var(--fill-color);\n",
              "    }\n",
              "    20% {\n",
              "      border-color: transparent;\n",
              "      border-left-color: var(--fill-color);\n",
              "      border-top-color: var(--fill-color);\n",
              "    }\n",
              "    30% {\n",
              "      border-color: transparent;\n",
              "      border-left-color: var(--fill-color);\n",
              "      border-top-color: var(--fill-color);\n",
              "      border-right-color: var(--fill-color);\n",
              "    }\n",
              "    40% {\n",
              "      border-color: transparent;\n",
              "      border-right-color: var(--fill-color);\n",
              "      border-top-color: var(--fill-color);\n",
              "    }\n",
              "    60% {\n",
              "      border-color: transparent;\n",
              "      border-right-color: var(--fill-color);\n",
              "    }\n",
              "    80% {\n",
              "      border-color: transparent;\n",
              "      border-right-color: var(--fill-color);\n",
              "      border-bottom-color: var(--fill-color);\n",
              "    }\n",
              "    90% {\n",
              "      border-color: transparent;\n",
              "      border-bottom-color: var(--fill-color);\n",
              "    }\n",
              "  }\n",
              "</style>\n",
              "\n",
              "  <script>\n",
              "    async function quickchart(key) {\n",
              "      const quickchartButtonEl =\n",
              "        document.querySelector('#' + key + ' button');\n",
              "      quickchartButtonEl.disabled = true;  // To prevent multiple clicks.\n",
              "      quickchartButtonEl.classList.add('colab-df-spinner');\n",
              "      try {\n",
              "        const charts = await google.colab.kernel.invokeFunction(\n",
              "            'suggestCharts', [key], {});\n",
              "      } catch (error) {\n",
              "        console.error('Error during call to suggestCharts:', error);\n",
              "      }\n",
              "      quickchartButtonEl.classList.remove('colab-df-spinner');\n",
              "      quickchartButtonEl.classList.add('colab-df-quickchart-complete');\n",
              "    }\n",
              "    (() => {\n",
              "      let quickchartButtonEl =\n",
              "        document.querySelector('#df-831df4f9-425e-49d0-ada5-5cf4839b6657 button');\n",
              "      quickchartButtonEl.style.display =\n",
              "        google.colab.kernel.accessAllowed ? 'block' : 'none';\n",
              "    })();\n",
              "  </script>\n",
              "</div>\n",
              "\n",
              "  <div id=\"id_5932d045-b0ee-4886-bb8c-dd1cf1fba5e6\">\n",
              "    <style>\n",
              "      .colab-df-generate {\n",
              "        background-color: #E8F0FE;\n",
              "        border: none;\n",
              "        border-radius: 50%;\n",
              "        cursor: pointer;\n",
              "        display: none;\n",
              "        fill: #1967D2;\n",
              "        height: 32px;\n",
              "        padding: 0 0 0 0;\n",
              "        width: 32px;\n",
              "      }\n",
              "\n",
              "      .colab-df-generate:hover {\n",
              "        background-color: #E2EBFA;\n",
              "        box-shadow: 0px 1px 2px rgba(60, 64, 67, 0.3), 0px 1px 3px 1px rgba(60, 64, 67, 0.15);\n",
              "        fill: #174EA6;\n",
              "      }\n",
              "\n",
              "      [theme=dark] .colab-df-generate {\n",
              "        background-color: #3B4455;\n",
              "        fill: #D2E3FC;\n",
              "      }\n",
              "\n",
              "      [theme=dark] .colab-df-generate:hover {\n",
              "        background-color: #434B5C;\n",
              "        box-shadow: 0px 1px 3px 1px rgba(0, 0, 0, 0.15);\n",
              "        filter: drop-shadow(0px 1px 2px rgba(0, 0, 0, 0.3));\n",
              "        fill: #FFFFFF;\n",
              "      }\n",
              "    </style>\n",
              "    <button class=\"colab-df-generate\" onclick=\"generateWithVariable('X_train')\"\n",
              "            title=\"Generate code using this dataframe.\"\n",
              "            style=\"display:none;\">\n",
              "\n",
              "  <svg xmlns=\"http://www.w3.org/2000/svg\" height=\"24px\"viewBox=\"0 0 24 24\"\n",
              "       width=\"24px\">\n",
              "    <path d=\"M7,19H8.4L18.45,9,17,7.55,7,17.6ZM5,21V16.75L18.45,3.32a2,2,0,0,1,2.83,0l1.4,1.43a1.91,1.91,0,0,1,.58,1.4,1.91,1.91,0,0,1-.58,1.4L9.25,21ZM18.45,9,17,7.55Zm-12,3A5.31,5.31,0,0,0,4.9,8.1,5.31,5.31,0,0,0,1,6.5,5.31,5.31,0,0,0,4.9,4.9,5.31,5.31,0,0,0,6.5,1,5.31,5.31,0,0,0,8.1,4.9,5.31,5.31,0,0,0,12,6.5,5.46,5.46,0,0,0,6.5,12Z\"/>\n",
              "  </svg>\n",
              "    </button>\n",
              "    <script>\n",
              "      (() => {\n",
              "      const buttonEl =\n",
              "        document.querySelector('#id_5932d045-b0ee-4886-bb8c-dd1cf1fba5e6 button.colab-df-generate');\n",
              "      buttonEl.style.display =\n",
              "        google.colab.kernel.accessAllowed ? 'block' : 'none';\n",
              "\n",
              "      buttonEl.onclick = () => {\n",
              "        google.colab.notebook.generateWithVariable('X_train');\n",
              "      }\n",
              "      })();\n",
              "    </script>\n",
              "  </div>\n",
              "\n",
              "    </div>\n",
              "  </div>\n"
            ],
            "text/plain": [
              "           Date   Close    Open    High     Low   Volume  Change\n",
              "0    2025-01-05   83.76   84.40   84.94   83.58  0.91001   -0.76\n",
              "1    2025-01-04   84.41   83.43   85.09   81.64  0.93359    1.19\n",
              "2    2025-01-03   83.41   81.53   84.65   80.18  0.96277    2.30\n",
              "3    2025-01-02   81.54   84.48   88.49   81.02  1.44000   -3.49\n",
              "4    2025-01-01   84.48   82.95   85.88   82.89  0.73937    1.84\n",
              "...         ...     ...     ...     ...     ...      ...     ...\n",
              "2512 2018-01-20  139.79  135.16  140.57  132.77  0.89222    3.42\n",
              "2513 2018-01-19  135.16  136.07  137.66  133.07  0.88565   -0.66\n",
              "2514 2018-01-18  136.06  132.65  137.51  129.18  1.17000    2.59\n",
              "2515 2018-01-17  132.63  139.26  141.44  131.64  1.02000   -4.76\n",
              "2516 2018-01-16  139.26  139.49  140.92  134.72  1.03000   -0.17\n",
              "\n",
              "[2517 rows x 7 columns]"
            ]
          },
          "execution_count": 104,
          "metadata": {},
          "output_type": "execute_result"
        }
      ],
      "source": [
        "X_train"
      ]
    },
    {
      "cell_type": "code",
      "execution_count": 107,
      "metadata": {
        "colab": {
          "base_uri": "https://localhost:8080/",
          "height": 459
        },
        "id": "jTKeijKRNkYX",
        "outputId": "ea07a879-20a9-4eb2-f70a-00a72f6a4a9c"
      },
      "outputs": [
        {
          "data": {
            "text/html": [
              "<div>\n",
              "<style scoped>\n",
              "    .dataframe tbody tr th:only-of-type {\n",
              "        vertical-align: middle;\n",
              "    }\n",
              "\n",
              "    .dataframe tbody tr th {\n",
              "        vertical-align: top;\n",
              "    }\n",
              "\n",
              "    .dataframe thead th {\n",
              "        text-align: right;\n",
              "    }\n",
              "</style>\n",
              "<table border=\"1\" class=\"dataframe\">\n",
              "  <thead>\n",
              "    <tr style=\"text-align: right;\">\n",
              "      <th></th>\n",
              "      <th>Close</th>\n",
              "    </tr>\n",
              "  </thead>\n",
              "  <tbody>\n",
              "    <tr>\n",
              "      <th>0</th>\n",
              "      <td>84.41</td>\n",
              "    </tr>\n",
              "    <tr>\n",
              "      <th>1</th>\n",
              "      <td>83.41</td>\n",
              "    </tr>\n",
              "    <tr>\n",
              "      <th>2</th>\n",
              "      <td>81.54</td>\n",
              "    </tr>\n",
              "    <tr>\n",
              "      <th>3</th>\n",
              "      <td>84.48</td>\n",
              "    </tr>\n",
              "    <tr>\n",
              "      <th>4</th>\n",
              "      <td>82.96</td>\n",
              "    </tr>\n",
              "    <tr>\n",
              "      <th>...</th>\n",
              "      <td>...</td>\n",
              "    </tr>\n",
              "    <tr>\n",
              "      <th>2512</th>\n",
              "      <td>135.16</td>\n",
              "    </tr>\n",
              "    <tr>\n",
              "      <th>2513</th>\n",
              "      <td>136.06</td>\n",
              "    </tr>\n",
              "    <tr>\n",
              "      <th>2514</th>\n",
              "      <td>132.63</td>\n",
              "    </tr>\n",
              "    <tr>\n",
              "      <th>2515</th>\n",
              "      <td>139.26</td>\n",
              "    </tr>\n",
              "    <tr>\n",
              "      <th>2516</th>\n",
              "      <td>139.50</td>\n",
              "    </tr>\n",
              "  </tbody>\n",
              "</table>\n",
              "<p>2517 rows × 1 columns</p>\n",
              "</div><br><label><b>dtype:</b> float64</label>"
            ],
            "text/plain": [
              "0        84.41\n",
              "1        83.41\n",
              "2        81.54\n",
              "3        84.48\n",
              "4        82.96\n",
              "         ...  \n",
              "2512    135.16\n",
              "2513    136.06\n",
              "2514    132.63\n",
              "2515    139.26\n",
              "2516    139.50\n",
              "Name: Close, Length: 2517, dtype: float64"
            ]
          },
          "execution_count": 107,
          "metadata": {},
          "output_type": "execute_result"
        }
      ],
      "source": [
        "y_train"
      ]
    },
    {
      "cell_type": "code",
      "execution_count": null,
      "metadata": {
        "id": "P9zTi7VNN-bQ"
      },
      "outputs": [],
      "source": []
    }
  ],
  "metadata": {
    "colab": {
      "provenance": []
    },
    "kernelspec": {
      "display_name": "Python 3",
      "name": "python3"
    },
    "language_info": {
      "name": "python"
    }
  },
  "nbformat": 4,
  "nbformat_minor": 0
}
