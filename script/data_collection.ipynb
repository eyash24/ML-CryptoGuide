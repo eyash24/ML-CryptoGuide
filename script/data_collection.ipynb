{
 "cells": [
  {
   "cell_type": "code",
   "execution_count": 1,
   "metadata": {},
   "outputs": [],
   "source": [
    "import json \n",
    "import websocket\n",
    "import os\n",
    "import pandas as pd\n",
    "import time"
   ]
  },
  {
   "cell_type": "code",
   "execution_count": 2,
   "metadata": {},
   "outputs": [
    {
     "name": "stdout",
     "output_type": "stream",
     "text": [
      "btcusdt@ticker_1h/ethusdt@ticker_1h/ltcusdt@ticker_1h\n",
      "btcusdt@ticker_1d/ethusdt@ticker_1d/ltcusdt@ticker_1d\n"
     ]
    }
   ],
   "source": [
    "assets = [\"BTC\", \"ETH\", \"LTC\"]\n",
    "assets_hourly = [coins.lower() + \"usdt@ticker_1h\" for coins in assets]\n",
    "assets_hourly = \"/\".join(assets_hourly)\n",
    "print(assets_hourly)\n",
    "\n",
    "assets_daily = [coins.lower() + \"usdt@ticker_1d\" for coins in assets]\n",
    "assets_daily = \"/\".join(assets_daily)\n",
    "print(assets_daily)\n"
   ]
  },
  {
   "cell_type": "code",
   "execution_count": 3,
   "metadata": {},
   "outputs": [
    {
     "name": "stdout",
     "output_type": "stream",
     "text": [
      "['../Dataset/hourly/Bitcoin.csv', '../Dataset/hourly/Ethereum.csv', '../Dataset/hourly/Litecoin.csv']\n",
      "['../Dataset/daily24th/Bitcoin.csv', '../Dataset/daily24th/Ethereum.csv', '../Dataset/daily24th/Litecoin.csv']\n"
     ]
    }
   ],
   "source": [
    "cav_dir_hourly = \"../Dataset/hourly\"\n",
    "cav_dir_daily = \"../Dataset/daily24th\"\n",
    "csv_files_name = [\"Bitcoin.csv\", \"Ethereum.csv\", \"Litecoin.csv\"]\n",
    "\n",
    "csv_files_hourly = [os.path.join(cav_dir_hourly, coins) for coins in csv_files_name]\n",
    "print(csv_files_hourly)\n",
    "\n",
    "csv_files_daily = [os.path.join(cav_dir_daily, coins) for coins in csv_files_name]\n",
    "print(csv_files_daily)\n"
   ]
  },
  {
   "cell_type": "code",
   "execution_count": 4,
   "metadata": {},
   "outputs": [
    {
     "name": "stdout",
     "output_type": "stream",
     "text": [
      "../Dataset/hourly/Bitcoin.csv already exists.\n",
      "../Dataset/hourly/Ethereum.csv already exists.\n",
      "../Dataset/hourly/Litecoin.csv already exists.\n",
      "../Dataset/daily24th/Bitcoin.csv already exists.\n",
      "../Dataset/daily24th/Ethereum.csv already exists.\n",
      "../Dataset/daily24th/Litecoin.csv already exists.\n"
     ]
    }
   ],
   "source": [
    "for file in csv_files_hourly:\n",
    "    os.makedirs(os.path.dirname(file), exist_ok=True)\n",
    "    if not os.path.exists(file):\n",
    "        with open(file, \"w\") as f:\n",
    "            f.write(\"timestamp,open,high,low,close,volume\\n\")\n",
    "            f.close()\n",
    "    else:\n",
    "        print(f\"{file} already exists.\")\n",
    "\n",
    "for file in csv_files_daily:\n",
    "    os.makedirs(os.path.dirname(file), exist_ok=True)\n",
    "    if not os.path.exists(file):\n",
    "        with open(file, \"w\") as f:\n",
    "            f.write(\"timestamp,open,high,low,close,volume\\n\")\n",
    "            f.close()\n",
    "    else:\n",
    "        print(f\"{file} already exists.\")"
   ]
  },
  {
   "cell_type": "code",
   "execution_count": 5,
   "metadata": {},
   "outputs": [],
   "source": [
    "source = \"\""
   ]
  },
  {
   "cell_type": "code",
   "execution_count": 6,
   "metadata": {},
   "outputs": [],
   "source": [
    "def retrieve_csv_file(symbol: str, hourly=True):\n",
    "    # print(symbol == \"btcusdt\")\n",
    "    if hourly:\n",
    "        csv_file_in_use = csv_files_hourly\n",
    "    else:\n",
    "        csv_file_in_use = csv_files_daily\n",
    "\n",
    "    if symbol:\n",
    "        if symbol ==  \"btcusdt\":\n",
    "            return csv_file_in_use[0]\n",
    "        elif symbol ==  \"ethusdt\":  \n",
    "            return csv_file_in_use[1]\n",
    "        elif symbol ==  \"ltcusdt\":\n",
    "            return csv_file_in_use[2]\n",
    "        \n",
    "    else:\n",
    "        raise ValueError(\"Invalid symbol\")"
   ]
  },
  {
   "cell_type": "code",
   "execution_count": 7,
   "metadata": {},
   "outputs": [],
   "source": [
    "def on_open(ws):\n",
    "    print(\"Connection opened\")\n",
    "\n",
    "def on_message(ws, message, hourly=True):\n",
    "    message = json.loads(message)\n",
    "    global source\n",
    "    source = message\n",
    "    # print(message)\n",
    "\n",
    "    coin_data = message['data']\n",
    "\n",
    "    symbol = coin_data[\"s\"].lower()\n",
    "    csv_save_file = retrieve_csv_file(str(symbol), hourly)\n",
    "    timestamp = coin_data[\"E\"]\n",
    "    open_price = coin_data[\"o\"]\n",
    "    high_price = coin_data[\"h\"]\n",
    "    low_price = coin_data[\"l\"]\n",
    "    close_price = coin_data[\"c\"]\n",
    "    volume = coin_data[\"v\"]\n",
    "\n",
    "    # Create a DataFrame from the coin_data\n",
    "    df = pd.DataFrame({\n",
    "        \"timestamp\": [timestamp],\n",
    "        \"open\": [open_price],\n",
    "        \"high\": [high_price],\n",
    "        \"low\": [low_price],\n",
    "        \"close\": [close_price],\n",
    "        \"volume\": [volume]\n",
    "    })\n",
    "\n",
    "    # Append the DataFrame to the CSV file\n",
    "    df.to_csv(f\"{csv_save_file}\", mode=\"a\", header=False, index=False)\n",
    "\n",
    "\n",
    "def on_close(ws, close_status_code, close_msg):\n",
    "    print(\"Connection closed\")  \n",
    "\n",
    "def on_error(ws, error):\n",
    "    print(\"Error:\", error)"
   ]
  },
  {
   "cell_type": "code",
   "execution_count": 8,
   "metadata": {},
   "outputs": [
    {
     "data": {
      "text/plain": [
       "('wss://stream.binance.com:9443/stream?streams=btcusdt@ticker_1h/ethusdt@ticker_1h/ltcusdt@ticker_1h',\n",
       " 'wss://stream.binance.com:9443/stream?streams=btcusdt@ticker_1d/ethusdt@ticker_1d/ltcusdt@ticker_1d')"
      ]
     },
     "execution_count": 8,
     "metadata": {},
     "output_type": "execute_result"
    }
   ],
   "source": [
    "socket_hourly = f\"wss://stream.binance.com:9443/stream?streams={assets_hourly}\"\n",
    "socket_daily = f\"wss://stream.binance.com:9443/stream?streams={assets_daily}\"\n",
    "socket_hourly, socket_daily"
   ]
  },
  {
   "cell_type": "code",
   "execution_count": 9,
   "metadata": {},
   "outputs": [],
   "source": [
    "def run_websocket_hourly(socket_name):\n",
    "    ws = websocket.create_connection(socket_name)\n",
    "    # print(\"WebSocket connection opened\")\n",
    "\n",
    "    # ws = websocket.WebSocketApp(\n",
    "    #     socket_hourly, \n",
    "    #     on_open=on_open,\n",
    "    #     on_close=on_close,\n",
    "    #     on_error=on_error,\n",
    "    #     on_message=on_message\n",
    "    # )\n",
    "    \n",
    "    result = ws.recv()\n",
    "    on_message(ws, result)\n",
    "\n",
    "    print(\"Received:\", result)\n",
    "    ws.close()\n",
    "\n",
    "def run_websocket_daily(socket_name):\n",
    "    ws = websocket.create_connection(socket_name)\n",
    "    # print(\"WebSocket connection opened\")\n",
    "\n",
    "    # ws = websocket.WebSocketApp(\n",
    "    #     socket_daily, \n",
    "    #     on_open=on_open,\n",
    "    #     on_close=on_close,\n",
    "    #     on_error=on_error,\n",
    "    #     on_message=on_message\n",
    "    # )\n",
    "        \n",
    "    result = ws.recv()\n",
    "    on_message(ws, result, hourly=False)\n",
    "    print(\"Received:\", result)\n",
    "    ws.close()\n"
   ]
  },
  {
   "cell_type": "code",
   "execution_count": 11,
   "metadata": {},
   "outputs": [
    {
     "name": "stdout",
     "output_type": "stream",
     "text": [
      "\n",
      "\n",
      "Daily report:\n",
      "Received: {\"stream\":\"btcusdt@ticker_1d\",\"data\":{\"e\":\"1dTicker\",\"E\":1744100395818,\"s\":\"BTCUSDT\",\"p\":\"3302.67000000\",\"P\":\"4.355\",\"w\":\"78484.22091329\",\"o\":\"75827.77000000\",\"h\":\"81243.58000000\",\"l\":\"75744.08000000\",\"c\":\"79130.44000000\",\"v\":\"58380.10095000\",\"q\":\"4581916739.89998170\",\"O\":1744013940000,\"C\":1744100395057,\"F\":4788001265,\"L\":4795414504,\"n\":7413240}}\n",
      "Received: {\"stream\":\"ethusdt@ticker_1d\",\"data\":{\"e\":\"1dTicker\",\"E\":1744100396818,\"s\":\"ETHUSDT\",\"p\":\"80.69000000\",\"P\":\"5.462\",\"w\":\"1548.62627932\",\"o\":\"1477.43000000\",\"h\":\"1639.00000000\",\"l\":\"1474.61000000\",\"c\":\"1558.12000000\",\"v\":\"1509283.72950000\",\"q\":\"2337316446.45708900\",\"O\":1744013940000,\"C\":1744100396737,\"F\":2307036444,\"L\":2311272691,\"n\":4236248}}\n",
      "Received: {\"stream\":\"ltcusdt@ticker_1d\",\"data\":{\"e\":\"1dTicker\",\"E\":1744100401726,\"s\":\"LTCUSDT\",\"p\":\"6.01000000\",\"P\":\"9.249\",\"w\":\"69.61884651\",\"o\":\"64.98000000\",\"h\":\"73.04000000\",\"l\":\"64.89000000\",\"c\":\"70.99000000\",\"v\":\"1237235.25200000\",\"q\":\"86134891.10167000\",\"O\":1744014000000,\"C\":1744100401181,\"F\":443850508,\"L\":444398020,\"n\":547513}}\n",
      "\n",
      "\n",
      "Hourly report:\n",
      "Received: {\"stream\":\"btcusdt@ticker_1h\",\"data\":{\"e\":\"1hTicker\",\"E\":1744100402818,\"s\":\"BTCUSDT\",\"p\":\"-311.32000000\",\"P\":\"-0.392\",\"w\":\"79403.78951319\",\"o\":\"79430.00000000\",\"h\":\"79714.21000000\",\"l\":\"79032.63000000\",\"c\":\"79118.68000000\",\"v\":\"977.24739000\",\"q\":\"77597146.05787450\",\"O\":1744096800000,\"C\":1744100402743,\"F\":4795285351,\"L\":4795414704,\"n\":129354}}\n",
      "Received: {\"stream\":\"ethusdt@ticker_1h\",\"data\":{\"e\":\"1hTicker\",\"E\":1744100403819,\"s\":\"ETHUSDT\",\"p\":\"-9.40000000\",\"P\":\"-0.600\",\"w\":\"1567.07163644\",\"o\":\"1567.95000000\",\"h\":\"1574.73000000\",\"l\":\"1557.66000000\",\"c\":\"1558.55000000\",\"v\":\"34226.86330000\",\"q\":\"53635946.68175300\",\"O\":1744096800000,\"C\":1744100403557,\"F\":2311168918,\"L\":2311272943,\"n\":104026}}\n",
      "Received: {\"stream\":\"ltcusdt@ticker_1h\",\"data\":{\"e\":\"1hTicker\",\"E\":1744100404819,\"s\":\"LTCUSDT\",\"p\":\"0.05000000\",\"P\":\"0.070\",\"w\":\"71.23185074\",\"o\":\"70.97000000\",\"h\":\"71.62000000\",\"l\":\"70.92000000\",\"c\":\"71.02000000\",\"v\":\"19490.35300000\",\"q\":\"1388333.91567000\",\"O\":1744096800000,\"C\":1744100404708,\"F\":444388499,\"L\":444398025,\"n\":9527}}\n",
      "\n",
      "\n",
      "Hourly report:\n",
      "Received: {\"stream\":\"btcusdt@ticker_1h\",\"data\":{\"e\":\"1hTicker\",\"E\":1744104006899,\"s\":\"BTCUSDT\",\"p\":\"-110.44000000\",\"P\":\"-0.140\",\"w\":\"79086.20159383\",\"o\":\"79130.44000000\",\"h\":\"79228.42000000\",\"l\":\"78939.00000000\",\"c\":\"79020.00000000\",\"v\":\"1028.69665000\",\"q\":\"81355710.64079980\",\"O\":1744100400000,\"C\":1744104006679,\"F\":4795414517,\"L\":4795543441,\"n\":128925}}\n",
      "Received: {\"stream\":\"ethusdt@ticker_1h\",\"data\":{\"e\":\"1hTicker\",\"E\":1744104007991,\"s\":\"ETHUSDT\",\"p\":\"10.40000000\",\"P\":\"0.667\",\"w\":\"1564.52953604\",\"o\":\"1558.12000000\",\"h\":\"1575.42000000\",\"l\":\"1554.37000000\",\"c\":\"1568.52000000\",\"v\":\"17784.20390000\",\"q\":\"27823912.27643300\",\"O\":1744100400000,\"C\":1744104007920,\"F\":2311272703,\"L\":2311358727,\"n\":86025}}\n",
      "Received: {\"stream\":\"ltcusdt@ticker_1h\",\"data\":{\"e\":\"1hTicker\",\"E\":1744104015899,\"s\":\"LTCUSDT\",\"p\":\"0.51000000\",\"P\":\"0.718\",\"w\":\"71.46874842\",\"o\":\"71.00000000\",\"h\":\"71.86000000\",\"l\":\"70.99000000\",\"c\":\"71.51000000\",\"v\":\"38465.30200000\",\"q\":\"2749066.99150000\",\"O\":1744100400000,\"C\":1744104015246,\"F\":444398009,\"L\":444408518,\"n\":10510}}\n",
      "\n",
      "\n",
      "Hourly report:\n",
      "Received: {\"stream\":\"btcusdt@ticker_1h\",\"data\":{\"e\":\"1hTicker\",\"E\":1744107618162,\"s\":\"BTCUSDT\",\"p\":\"-42.99000000\",\"P\":\"-0.054\",\"w\":\"78982.63486384\",\"o\":\"79005.01000000\",\"h\":\"79189.18000000\",\"l\":\"78819.65000000\",\"c\":\"78962.02000000\",\"v\":\"1011.98114000\",\"q\":\"79928936.86971440\",\"O\":1744104000000,\"C\":1744107618072,\"F\":4795543181,\"L\":4795679809,\"n\":136629}}\n",
      "Received: {\"stream\":\"ethusdt@ticker_1h\",\"data\":{\"e\":\"1hTicker\",\"E\":1744107620071,\"s\":\"ETHUSDT\",\"p\":\"1.22000000\",\"P\":\"0.078\",\"w\":\"1569.36782164\",\"o\":\"1568.34000000\",\"h\":\"1575.93000000\",\"l\":\"1564.64000000\",\"c\":\"1569.56000000\",\"v\":\"16474.93910000\",\"q\":\"25855239.28709700\",\"O\":1744104000000,\"C\":1744107619520,\"F\":2311358433,\"L\":2311441122,\"n\":82690}}\n",
      "Received: {\"stream\":\"ltcusdt@ticker_1h\",\"data\":{\"e\":\"1hTicker\",\"E\":1744107623071,\"s\":\"LTCUSDT\",\"p\":\"0.42000000\",\"P\":\"0.587\",\"w\":\"71.78777515\",\"o\":\"71.51000000\",\"h\":\"72.05000000\",\"l\":\"71.31000000\",\"c\":\"71.93000000\",\"v\":\"28971.23200000\",\"q\":\"2079780.28877000\",\"O\":1744104000000,\"C\":1744107622783,\"F\":444408490,\"L\":444419008,\"n\":10519}}\n",
      "\n",
      "\n",
      "Hourly report:\n",
      "Received: {\"stream\":\"btcusdt@ticker_1h\",\"data\":{\"e\":\"1hTicker\",\"E\":1744111225241,\"s\":\"BTCUSDT\",\"p\":\"271.99000000\",\"P\":\"0.344\",\"w\":\"79104.86243607\",\"o\":\"78960.01000000\",\"h\":\"79362.08000000\",\"l\":\"78913.04000000\",\"c\":\"79232.00000000\",\"v\":\"1016.13025000\",\"q\":\"80380843.64338400\",\"O\":1744107600000,\"C\":1744111225058,\"F\":4795679421,\"L\":4795805573,\"n\":126153}}\n",
      "Received: {\"stream\":\"ethusdt@ticker_1h\",\"data\":{\"e\":\"1hTicker\",\"E\":1744111227334,\"s\":\"ETHUSDT\",\"p\":\"2.15000000\",\"P\":\"0.137\",\"w\":\"1569.78516814\",\"o\":\"1569.94000000\",\"h\":\"1575.46000000\",\"l\":\"1564.80000000\",\"c\":\"1572.09000000\",\"v\":\"17107.10000000\",\"q\":\"26854471.84991900\",\"O\":1744107600000,\"C\":1744111227228,\"F\":2311440840,\"L\":2311531699,\"n\":90860}}\n",
      "Received: {\"stream\":\"ltcusdt@ticker_1h\",\"data\":{\"e\":\"1hTicker\",\"E\":1744111231334,\"s\":\"LTCUSDT\",\"p\":\"0.28000000\",\"P\":\"0.389\",\"w\":\"72.16812551\",\"o\":\"71.95000000\",\"h\":\"72.39000000\",\"l\":\"71.89000000\",\"c\":\"72.23000000\",\"v\":\"18968.46000000\",\"q\":\"1368918.20197000\",\"O\":1744107600000,\"C\":1744111231270,\"F\":444418955,\"L\":444429783,\"n\":10829}}\n",
      "\n",
      "\n",
      "Hourly report:\n",
      "Received: {\"stream\":\"btcusdt@ticker_1h\",\"data\":{\"e\":\"1hTicker\",\"E\":1744115138418,\"s\":\"BTCUSDT\",\"p\":\"571.99000000\",\"P\":\"0.721\",\"w\":\"79823.54578200\",\"o\":\"79280.00000000\",\"h\":\"80122.00000000\",\"l\":\"79239.90000000\",\"c\":\"79851.99000000\",\"v\":\"1614.94139000\",\"q\":\"128910347.97991070\",\"O\":1744111500000,\"C\":1744115138203,\"F\":4795816376,\"L\":4796077040,\"n\":260665}}\n",
      "Received: {\"stream\":\"ethusdt@ticker_1h\",\"data\":{\"e\":\"1hTicker\",\"E\":1744115139418,\"s\":\"ETHUSDT\",\"p\":\"7.08000000\",\"P\":\"0.451\",\"w\":\"1583.02512323\",\"o\":\"1570.79000000\",\"h\":\"1593.47000000\",\"l\":\"1569.00000000\",\"c\":\"1577.87000000\",\"v\":\"35231.55110000\",\"q\":\"55772430.52178700\",\"O\":1744111500000,\"C\":1744115139084,\"F\":2311541287,\"L\":2311688951,\"n\":147665}}\n",
      "Received: {\"stream\":\"ltcusdt@ticker_1h\",\"data\":{\"e\":\"1hTicker\",\"E\":1744115140509,\"s\":\"LTCUSDT\",\"p\":\"0.68000000\",\"P\":\"0.942\",\"w\":\"72.96955628\",\"o\":\"72.21000000\",\"h\":\"73.39000000\",\"l\":\"72.17000000\",\"c\":\"72.89000000\",\"v\":\"44876.51000000\",\"q\":\"3274619.02222000\",\"O\":1744111500000,\"C\":1744115139749,\"F\":444430243,\"L\":444449375,\"n\":19133}}\n",
      "\n",
      "\n",
      "Hourly report:\n",
      "Received: {\"stream\":\"btcusdt@ticker_1h\",\"data\":{\"e\":\"1hTicker\",\"E\":1744118779584,\"s\":\"BTCUSDT\",\"p\":\"433.64000000\",\"P\":\"0.543\",\"w\":\"80005.98068260\",\"o\":\"79825.00000000\",\"h\":\"80370.00000000\",\"l\":\"79559.90000000\",\"c\":\"80258.64000000\",\"v\":\"1705.61085000\",\"q\":\"136459068.71712490\",\"O\":1744115160000,\"C\":1744118779532,\"F\":4796078037,\"L\":4796347071,\"n\":269035}}\n",
      "Received: {\"stream\":\"ethusdt@ticker_1h\",\"data\":{\"e\":\"1hTicker\",\"E\":1744118781673,\"s\":\"ETHUSDT\",\"p\":\"6.24000000\",\"P\":\"0.396\",\"w\":\"1574.08826186\",\"o\":\"1576.06000000\",\"h\":\"1583.86000000\",\"l\":\"1567.69000000\",\"c\":\"1582.30000000\",\"v\":\"35197.50990000\",\"q\":\"55403987.18017000\",\"O\":1744115160000,\"C\":1744118781620,\"F\":2311689795,\"L\":2311834649,\"n\":144855}}\n",
      "Received: {\"stream\":\"ltcusdt@ticker_1h\",\"data\":{\"e\":\"1hTicker\",\"E\":1744118783673,\"s\":\"LTCUSDT\",\"p\":\"0.59000000\",\"P\":\"0.810\",\"w\":\"72.93418758\",\"o\":\"72.83000000\",\"h\":\"73.53000000\",\"l\":\"72.46000000\",\"c\":\"73.42000000\",\"v\":\"52062.53600000\",\"q\":\"3797138.76626000\",\"O\":1744115160000,\"C\":1744118783672,\"F\":444449431,\"L\":444466616,\"n\":17186}}\n"
     ]
    },
    {
     "ename": "KeyboardInterrupt",
     "evalue": "",
     "output_type": "error",
     "traceback": [
      "\u001b[0;31m---------------------------------------------------------------------------\u001b[0m",
      "\u001b[0;31mKeyboardInterrupt\u001b[0m                         Traceback (most recent call last)",
      "Cell \u001b[0;32mIn[11], line 17\u001b[0m\n\u001b[1;32m     14\u001b[0m     socket_name \u001b[38;5;241m=\u001b[39m socket \u001b[38;5;241m+\u001b[39m coins\u001b[38;5;241m.\u001b[39mlower() \u001b[38;5;241m+\u001b[39m \u001b[38;5;124m\"\u001b[39m\u001b[38;5;124musdt@ticker_1h\u001b[39m\u001b[38;5;124m\"\u001b[39m\n\u001b[1;32m     15\u001b[0m     run_websocket_hourly(socket_name)\n\u001b[0;32m---> 17\u001b[0m time\u001b[38;5;241m.\u001b[39msleep(\u001b[38;5;241m3600\u001b[39m) \n",
      "\u001b[0;31mKeyboardInterrupt\u001b[0m: "
     ]
    }
   ],
   "source": [
    "count = 0\n",
    "socket = \"wss://stream.binance.com:9443/stream?streams=\"\n",
    "while True:\n",
    "    if count % 24 == 0:\n",
    "        print(\"\\n\\nDaily report:\")\n",
    "        # runs the websocket for daily data\n",
    "        for coins in assets:\n",
    "            socket_name = socket + coins.lower() + \"usdt@ticker_1d\"\n",
    "            run_websocket_daily(socket_name)\n",
    "        \n",
    "    count += 1\n",
    "    print(\"\\n\\nHourly report:\")\n",
    "    for coins in assets:\n",
    "        socket_name = socket + coins.lower() + \"usdt@ticker_1h\"\n",
    "        run_websocket_hourly(socket_name)\n",
    "\n",
    "    time.sleep(3600) "
   ]
  }
 ],
 "metadata": {
  "kernelspec": {
   "display_name": "envTorch",
   "language": "python",
   "name": "python3"
  },
  "language_info": {
   "codemirror_mode": {
    "name": "ipython",
    "version": 3
   },
   "file_extension": ".py",
   "mimetype": "text/x-python",
   "name": "python",
   "nbconvert_exporter": "python",
   "pygments_lexer": "ipython3",
   "version": "3.11.11"
  }
 },
 "nbformat": 4,
 "nbformat_minor": 2
}
