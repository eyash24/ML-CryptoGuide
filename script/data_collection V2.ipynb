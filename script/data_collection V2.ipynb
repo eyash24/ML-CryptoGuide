{
 "cells": [
  {
   "cell_type": "markdown",
   "metadata": {},
   "source": [
    "# Data Collection V2"
   ]
  },
  {
   "cell_type": "code",
   "execution_count": 1,
   "metadata": {},
   "outputs": [],
   "source": [
    "import json \n",
    "import websocket\n",
    "import os\n",
    "import pandas as pd\n",
    "import time"
   ]
  },
  {
   "cell_type": "code",
   "execution_count": 2,
   "metadata": {},
   "outputs": [
    {
     "name": "stdout",
     "output_type": "stream",
     "text": [
      "btcusdt@ticker_1h/ethusdt@ticker_1h/ltcusdt@ticker_1h\n",
      "btcusdt@ticker_1d/ethusdt@ticker_1d/ltcusdt@ticker_1d\n"
     ]
    }
   ],
   "source": [
    "assets = [\"BTC\", \"ETH\", \"LTC\"]\n",
    "assets_hourly = [coins.lower() + \"usdt@ticker_1h\" for coins in assets]\n",
    "assets_hourly = \"/\".join(assets_hourly)\n",
    "print(assets_hourly)\n",
    "\n",
    "assets_daily = [coins.lower() + \"usdt@ticker_1d\" for coins in assets]\n",
    "assets_daily = \"/\".join(assets_daily)\n",
    "print(assets_daily)\n"
   ]
  },
  {
   "cell_type": "code",
   "execution_count": 3,
   "metadata": {},
   "outputs": [
    {
     "name": "stdout",
     "output_type": "stream",
     "text": [
      "['../Dataset/hourlyV2/Bitcoin.csv', '../Dataset/hourlyV2/Ethereum.csv', '../Dataset/hourlyV2/Litecoin.csv']\n",
      "['../Dataset/daily24thV2/Bitcoin.csv', '../Dataset/daily24thV2/Ethereum.csv', '../Dataset/daily24thV2/Litecoin.csv']\n"
     ]
    }
   ],
   "source": [
    "cav_dir_hourly = \"../Dataset/hourlyV2\"\n",
    "cav_dir_daily = \"../Dataset/daily24thV2\"\n",
    "csv_files_name = [\"Bitcoin.csv\", \"Ethereum.csv\", \"Litecoin.csv\"]\n",
    "\n",
    "csv_files_hourly = [os.path.join(cav_dir_hourly, coins) for coins in csv_files_name]\n",
    "print(csv_files_hourly)\n",
    "\n",
    "csv_files_daily = [os.path.join(cav_dir_daily, coins) for coins in csv_files_name]\n",
    "print(csv_files_daily)\n"
   ]
  },
  {
   "cell_type": "code",
   "execution_count": 4,
   "metadata": {},
   "outputs": [
    {
     "name": "stdout",
     "output_type": "stream",
     "text": [
      "../Dataset/hourlyV2/Bitcoin.csv already exists.\n",
      "../Dataset/hourlyV2/Ethereum.csv already exists.\n",
      "../Dataset/hourlyV2/Litecoin.csv already exists.\n",
      "../Dataset/daily24thV2/Bitcoin.csv already exists.\n",
      "../Dataset/daily24thV2/Ethereum.csv already exists.\n",
      "../Dataset/daily24thV2/Litecoin.csv already exists.\n"
     ]
    }
   ],
   "source": [
    "for file in csv_files_hourly:\n",
    "    os.makedirs(os.path.dirname(file), exist_ok=True)\n",
    "    if not os.path.exists(file):\n",
    "        with open(file, \"w\") as f:\n",
    "            f.write(\"Date,Open,High,Low,Close,Volume\\n\")\n",
    "            f.close()\n",
    "    else:\n",
    "        print(f\"{file} already exists.\")\n",
    "\n",
    "for file in csv_files_daily:\n",
    "    os.makedirs(os.path.dirname(file), exist_ok=True)\n",
    "    if not os.path.exists(file):\n",
    "        with open(file, \"w\") as f:\n",
    "            f.write(\"Date,Open,High,Low,Close,Volume\\n\")\n",
    "            f.close()\n",
    "    else:\n",
    "        print(f\"{file} already exists.\")"
   ]
  },
  {
   "cell_type": "code",
   "execution_count": 5,
   "metadata": {},
   "outputs": [],
   "source": [
    "source = \"\""
   ]
  },
  {
   "cell_type": "code",
   "execution_count": 6,
   "metadata": {},
   "outputs": [],
   "source": [
    "def retrieve_csv_file(symbol: str, hourly=True):\n",
    "    # print(symbol == \"btcusdt\")\n",
    "    if hourly:\n",
    "        csv_file_in_use = csv_files_hourly\n",
    "    else:\n",
    "        csv_file_in_use = csv_files_daily\n",
    "\n",
    "    if symbol:\n",
    "        if symbol ==  \"btcusdt\":\n",
    "            return csv_file_in_use[0]\n",
    "        elif symbol ==  \"ethusdt\":  \n",
    "            return csv_file_in_use[1]\n",
    "        elif symbol ==  \"ltcusdt\":\n",
    "            return csv_file_in_use[2]\n",
    "        \n",
    "    else:\n",
    "        raise ValueError(\"Invalid symbol\")"
   ]
  },
  {
   "cell_type": "code",
   "execution_count": 11,
   "metadata": {},
   "outputs": [],
   "source": [
    "def on_open(ws):\n",
    "    print(\"Connection opened\")\n",
    "\n",
    "def on_message(ws, message, hourly=True):\n",
    "    message = json.loads(message)\n",
    "    global source\n",
    "    source = message\n",
    "    # print(message)\n",
    "\n",
    "    coin_data = message['data']\n",
    "\n",
    "    symbol = coin_data[\"s\"].lower()\n",
    "    csv_save_file = retrieve_csv_file(str(symbol), hourly)\n",
    "    timestamp = coin_data[\"E\"]\n",
    "    open_price = coin_data[\"o\"]\n",
    "    high_price = coin_data[\"h\"]\n",
    "    low_price = coin_data[\"l\"]\n",
    "    close_price = coin_data[\"c\"]\n",
    "    volume = coin_data[\"v\"]\n",
    "\n",
    "    timestamp = pd.to_datetime(timestamp, unit='ms')\n",
    "    print(timestamp)\n",
    "\n",
    "    # Create a DataFrame from the coin_data\n",
    "    df = pd.DataFrame({\n",
    "        \"Date\": [timestamp],\n",
    "        \"Open\": [open_price],\n",
    "        \"High\": [high_price],\n",
    "        \"Low\": [low_price],\n",
    "        \"Close\": [close_price],\n",
    "        \"Volume\": [volume]\n",
    "    })\n",
    "\n",
    "    # Append the DataFrame to the CSV file\n",
    "    df.to_csv(f\"{csv_save_file}\", mode=\"a\", header=False, index=False)\n",
    "\n",
    "\n",
    "def on_close(ws, close_status_code, close_msg):\n",
    "    print(\"Connection closed\")  \n",
    "\n",
    "def on_error(ws, error):\n",
    "    print(\"Error:\", error)"
   ]
  },
  {
   "cell_type": "code",
   "execution_count": 12,
   "metadata": {},
   "outputs": [
    {
     "data": {
      "text/plain": [
       "('wss://stream.binance.com:9443/stream?streams=btcusdt@ticker_1h/ethusdt@ticker_1h/ltcusdt@ticker_1h',\n",
       " 'wss://stream.binance.com:9443/stream?streams=btcusdt@ticker_1d/ethusdt@ticker_1d/ltcusdt@ticker_1d')"
      ]
     },
     "execution_count": 12,
     "metadata": {},
     "output_type": "execute_result"
    }
   ],
   "source": [
    "socket_hourly = f\"wss://stream.binance.com:9443/stream?streams={assets_hourly}\"\n",
    "socket_daily = f\"wss://stream.binance.com:9443/stream?streams={assets_daily}\"\n",
    "socket_hourly, socket_daily"
   ]
  },
  {
   "cell_type": "code",
   "execution_count": 13,
   "metadata": {},
   "outputs": [],
   "source": [
    "def run_websocket_hourly(socket_name):\n",
    "    ws = websocket.create_connection(socket_name)\n",
    "    # print(\"WebSocket connection opened\")\n",
    "\n",
    "    # ws = websocket.WebSocketApp(\n",
    "    #     socket_hourly, \n",
    "    #     on_open=on_open,\n",
    "    #     on_close=on_close,\n",
    "    #     on_error=on_error,\n",
    "    #     on_message=on_message\n",
    "    # )\n",
    "    \n",
    "    result = ws.recv()\n",
    "    on_message(ws, result)\n",
    "\n",
    "    print(\"Received:\", result)\n",
    "    ws.close()\n",
    "\n",
    "def run_websocket_daily(socket_name):\n",
    "    ws = websocket.create_connection(socket_name)\n",
    "    # print(\"WebSocket connection opened\")\n",
    "\n",
    "    # ws = websocket.WebSocketApp(\n",
    "    #     socket_daily, \n",
    "    #     on_open=on_open,\n",
    "    #     on_close=on_close,\n",
    "    #     on_error=on_error,\n",
    "    #     on_message=on_message\n",
    "    # )\n",
    "        \n",
    "    result = ws.recv()\n",
    "    on_message(ws, result, hourly=False)\n",
    "    print(\"Received:\", result)\n",
    "    ws.close()\n"
   ]
  },
  {
   "cell_type": "code",
   "execution_count": 15,
   "metadata": {},
   "outputs": [
    {
     "name": "stdout",
     "output_type": "stream",
     "text": [
      "\n",
      "\n",
      "Daily report:\n",
      "2025-04-08 08:20:01.818000\n",
      "Received: {\"stream\":\"btcusdt@ticker_1d\",\"data\":{\"e\":\"1dTicker\",\"E\":1744100401818,\"s\":\"BTCUSDT\",\"p\":\"3143.66000000\",\"P\":\"4.138\",\"w\":\"78487.37747529\",\"o\":\"75975.89000000\",\"h\":\"81243.58000000\",\"l\":\"75744.08000000\",\"c\":\"79119.55000000\",\"v\":\"58309.15458000\",\"q\":\"4576532625.78528260\",\"O\":1744014000000,\"C\":1744100401447,\"F\":4788009618,\"L\":4795414672,\"n\":7405055}}\n",
      "2025-04-08 08:20:02.818000\n",
      "Received: {\"stream\":\"ethusdt@ticker_1d\",\"data\":{\"e\":\"1dTicker\",\"E\":1744100402818,\"s\":\"ETHUSDT\",\"p\":\"74.30000000\",\"P\":\"5.008\",\"w\":\"1548.73530838\",\"o\":\"1483.64000000\",\"h\":\"1639.00000000\",\"l\":\"1474.61000000\",\"c\":\"1557.94000000\",\"v\":\"1506890.01880000\",\"q\":\"2333773777.96599600\",\"O\":1744014000000,\"C\":1744100402818,\"F\":2307043064,\"L\":2311272783,\"n\":4229720}}\n",
      "2025-04-08 08:20:03.819000\n",
      "Received: {\"stream\":\"ltcusdt@ticker_1d\",\"data\":{\"e\":\"1dTicker\",\"E\":1744100403819,\"s\":\"LTCUSDT\",\"p\":\"6.03000000\",\"P\":\"9.280\",\"w\":\"69.61884729\",\"o\":\"64.98000000\",\"h\":\"73.04000000\",\"l\":\"64.89000000\",\"c\":\"71.01000000\",\"v\":\"1237235.95100000\",\"q\":\"86134940.73209000\",\"O\":1744014000000,\"C\":1744100403702,\"F\":443850508,\"L\":444398023,\"n\":547516}}\n",
      "\n",
      "\n",
      "Hourly report:\n",
      "2025-04-08 08:20:04.819000\n",
      "Received: {\"stream\":\"btcusdt@ticker_1h\",\"data\":{\"e\":\"1hTicker\",\"E\":1744100404819,\"s\":\"BTCUSDT\",\"p\":\"-279.68000000\",\"P\":\"-0.352\",\"w\":\"79403.33858420\",\"o\":\"79430.00000000\",\"h\":\"79714.21000000\",\"l\":\"79032.63000000\",\"c\":\"79150.32000000\",\"v\":\"978.87514000\",\"q\":\"77725954.17307470\",\"O\":1744096800000,\"C\":1744100404690,\"F\":4795285351,\"L\":4795415066,\"n\":129716}}\n",
      "2025-04-08 08:20:05.726000\n",
      "Received: {\"stream\":\"ethusdt@ticker_1h\",\"data\":{\"e\":\"1hTicker\",\"E\":1744100405726,\"s\":\"ETHUSDT\",\"p\":\"-8.70000000\",\"P\":\"-0.555\",\"w\":\"1567.06188302\",\"o\":\"1567.95000000\",\"h\":\"1574.73000000\",\"l\":\"1557.66000000\",\"c\":\"1559.25000000\",\"v\":\"34266.97490000\",\"q\":\"53698470.21203100\",\"O\":1744096800000,\"C\":1744100405718,\"F\":2311168918,\"L\":2311273083,\"n\":104166}}\n",
      "2025-04-08 08:20:06.726000\n",
      "Received: {\"stream\":\"ltcusdt@ticker_1h\",\"data\":{\"e\":\"1hTicker\",\"E\":1744100406726,\"s\":\"LTCUSDT\",\"p\":\"0.11000000\",\"P\":\"0.155\",\"w\":\"71.23151844\",\"o\":\"70.97000000\",\"h\":\"71.62000000\",\"l\":\"70.92000000\",\"c\":\"71.08000000\",\"v\":\"19530.15000000\",\"q\":\"1391162.23993000\",\"O\":1744096800000,\"C\":1744100406704,\"F\":444388499,\"L\":444398039,\"n\":9541}}\n"
     ]
    },
    {
     "ename": "KeyboardInterrupt",
     "evalue": "",
     "output_type": "error",
     "traceback": [
      "\u001b[0;31m---------------------------------------------------------------------------\u001b[0m",
      "\u001b[0;31mKeyboardInterrupt\u001b[0m                         Traceback (most recent call last)",
      "Cell \u001b[0;32mIn[15], line 17\u001b[0m\n\u001b[1;32m     14\u001b[0m     socket_name \u001b[38;5;241m=\u001b[39m socket \u001b[38;5;241m+\u001b[39m coins\u001b[38;5;241m.\u001b[39mlower() \u001b[38;5;241m+\u001b[39m \u001b[38;5;124m\"\u001b[39m\u001b[38;5;124musdt@ticker_1h\u001b[39m\u001b[38;5;124m\"\u001b[39m\n\u001b[1;32m     15\u001b[0m     run_websocket_hourly(socket_name)\n\u001b[0;32m---> 17\u001b[0m \u001b[43mtime\u001b[49m\u001b[38;5;241;43m.\u001b[39;49m\u001b[43msleep\u001b[49m\u001b[43m(\u001b[49m\u001b[38;5;241;43m3600\u001b[39;49m\u001b[43m)\u001b[49m \n",
      "\u001b[0;31mKeyboardInterrupt\u001b[0m: "
     ]
    }
   ],
   "source": [
    "count = 0\n",
    "socket = \"wss://stream.binance.com:9443/stream?streams=\"\n",
    "while True:\n",
    "    if count % 24 == 0:\n",
    "        print(\"\\n\\nDaily report:\")\n",
    "        # runs the websocket for daily data\n",
    "        for coins in assets:\n",
    "            socket_name = socket + coins.lower() + \"usdt@ticker_1d\"\n",
    "            run_websocket_daily(socket_name)\n",
    "        \n",
    "    count += 1\n",
    "    print(\"\\n\\nHourly report:\")\n",
    "    for coins in assets:\n",
    "        socket_name = socket + coins.lower() + \"usdt@ticker_1h\"\n",
    "        run_websocket_hourly(socket_name)\n",
    "\n",
    "    time.sleep(3600) "
   ]
  }
 ],
 "metadata": {
  "kernelspec": {
   "display_name": "envTorch",
   "language": "python",
   "name": "python3"
  },
  "language_info": {
   "codemirror_mode": {
    "name": "ipython",
    "version": 3
   },
   "file_extension": ".py",
   "mimetype": "text/x-python",
   "name": "python",
   "nbconvert_exporter": "python",
   "pygments_lexer": "ipython3",
   "version": "3.11.11"
  }
 },
 "nbformat": 4,
 "nbformat_minor": 2
}
