{
 "cells": [
  {
   "cell_type": "markdown",
   "metadata": {},
   "source": [
    "# Data Collection V2"
   ]
  },
  {
   "cell_type": "code",
   "execution_count": 1,
   "metadata": {},
   "outputs": [],
   "source": [
    "import json \n",
    "import websocket\n",
    "import os\n",
    "import pandas as pd\n",
    "import time"
   ]
  },
  {
   "cell_type": "code",
   "execution_count": 2,
   "metadata": {},
   "outputs": [
    {
     "name": "stdout",
     "output_type": "stream",
     "text": [
      "btcusdt@ticker_1h/ethusdt@ticker_1h/ltcusdt@ticker_1h\n",
      "btcusdt@ticker_1d/ethusdt@ticker_1d/ltcusdt@ticker_1d\n"
     ]
    }
   ],
   "source": [
    "assets = [\"BTC\", \"ETH\", \"LTC\"]\n",
    "assets_hourly = [coins.lower() + \"usdt@ticker_1h\" for coins in assets]\n",
    "assets_hourly = \"/\".join(assets_hourly)\n",
    "print(assets_hourly)\n",
    "\n",
    "assets_daily = [coins.lower() + \"usdt@ticker_1d\" for coins in assets]\n",
    "assets_daily = \"/\".join(assets_daily)\n",
    "print(assets_daily)\n"
   ]
  },
  {
   "cell_type": "code",
   "execution_count": 3,
   "metadata": {},
   "outputs": [
    {
     "name": "stdout",
     "output_type": "stream",
     "text": [
      "['../Dataset/hourlyV2/Bitcoin.csv', '../Dataset/hourlyV2/Ethereum.csv', '../Dataset/hourlyV2/Litecoin.csv']\n",
      "['../Dataset/daily24thV2/Bitcoin.csv', '../Dataset/daily24thV2/Ethereum.csv', '../Dataset/daily24thV2/Litecoin.csv']\n"
     ]
    }
   ],
   "source": [
    "cav_dir_hourly = \"../Dataset/hourlyV2\"\n",
    "cav_dir_daily = \"../Dataset/daily24thV2\"\n",
    "csv_files_name = [\"Bitcoin.csv\", \"Ethereum.csv\", \"Litecoin.csv\"]\n",
    "\n",
    "csv_files_hourly = [os.path.join(cav_dir_hourly, coins) for coins in csv_files_name]\n",
    "print(csv_files_hourly)\n",
    "\n",
    "csv_files_daily = [os.path.join(cav_dir_daily, coins) for coins in csv_files_name]\n",
    "print(csv_files_daily)\n"
   ]
  },
  {
   "cell_type": "code",
   "execution_count": 4,
   "metadata": {},
   "outputs": [],
   "source": [
    "for file in csv_files_hourly:\n",
    "    os.makedirs(os.path.dirname(file), exist_ok=True)\n",
    "    if not os.path.exists(file):\n",
    "        with open(file, \"w\") as f:\n",
    "            f.write(\"Date,Open,High,Low,Close,Volume\\n\")\n",
    "            f.close()\n",
    "    else:\n",
    "        print(f\"{file} already exists.\")\n",
    "\n",
    "for file in csv_files_daily:\n",
    "    os.makedirs(os.path.dirname(file), exist_ok=True)\n",
    "    if not os.path.exists(file):\n",
    "        with open(file, \"w\") as f:\n",
    "            f.write(\"Date,Open,High,Low,Close,Volume\\n\")\n",
    "            f.close()\n",
    "    else:\n",
    "        print(f\"{file} already exists.\")"
   ]
  },
  {
   "cell_type": "code",
   "execution_count": 5,
   "metadata": {},
   "outputs": [],
   "source": [
    "source = \"\""
   ]
  },
  {
   "cell_type": "code",
   "execution_count": 6,
   "metadata": {},
   "outputs": [],
   "source": [
    "def retrieve_csv_file(symbol: str, hourly=True):\n",
    "    # print(symbol == \"btcusdt\")\n",
    "    if hourly:\n",
    "        csv_file_in_use = csv_files_hourly\n",
    "    else:\n",
    "        csv_file_in_use = csv_files_daily\n",
    "\n",
    "    if symbol:\n",
    "        if symbol ==  \"btcusdt\":\n",
    "            return csv_file_in_use[0]\n",
    "        elif symbol ==  \"ethusdt\":  \n",
    "            return csv_file_in_use[1]\n",
    "        elif symbol ==  \"ltcusdt\":\n",
    "            return csv_file_in_use[2]\n",
    "        \n",
    "    else:\n",
    "        raise ValueError(\"Invalid symbol\")"
   ]
  },
  {
   "cell_type": "code",
   "execution_count": 19,
   "metadata": {},
   "outputs": [],
   "source": [
    "def on_open(ws):\n",
    "    print(\"Connection opened\")\n",
    "\n",
    "def on_message(ws, message, hourly=True):\n",
    "    message = json.loads(message)\n",
    "    global source\n",
    "    source = message\n",
    "    # print(message)\n",
    "\n",
    "    coin_data = message['data']\n",
    "\n",
    "    symbol = coin_data[\"s\"].lower()\n",
    "    csv_save_file = retrieve_csv_file(str(symbol), hourly)\n",
    "    timestamp = coin_data[\"E\"]\n",
    "    open_price = coin_data[\"o\"]\n",
    "    high_price = coin_data[\"h\"]\n",
    "    low_price = coin_data[\"l\"]\n",
    "    close_price = coin_data[\"c\"]\n",
    "    volume = coin_data[\"v\"]\n",
    "\n",
    "    timestamp = pd.to_datetime(timestamp)\n",
    "\n",
    "    # Create a DataFrame from the coin_data\n",
    "    df = pd.DataFrame({\n",
    "        \"Date\": [timestamp],\n",
    "        \"Open\": [open_price],\n",
    "        \"High\": [high_price],\n",
    "        \"Low\": [low_price],\n",
    "        \"Close\": [close_price],\n",
    "        \"Volume\": [volume]\n",
    "    })\n",
    "\n",
    "    # Append the DataFrame to the CSV file\n",
    "    df.to_csv(f\"{csv_save_file}\", mode=\"a\", header=False, index=False)\n",
    "\n",
    "\n",
    "def on_close(ws, close_status_code, close_msg):\n",
    "    print(\"Connection closed\")  \n",
    "\n",
    "def on_error(ws, error):\n",
    "    print(\"Error:\", error)"
   ]
  },
  {
   "cell_type": "code",
   "execution_count": 20,
   "metadata": {},
   "outputs": [
    {
     "data": {
      "text/plain": [
       "('wss://stream.binance.com:9443/stream?streams=btcusdt@ticker_1h/ethusdt@ticker_1h/ltcusdt@ticker_1h',\n",
       " 'wss://stream.binance.com:9443/stream?streams=btcusdt@ticker_1d/ethusdt@ticker_1d/ltcusdt@ticker_1d')"
      ]
     },
     "execution_count": 20,
     "metadata": {},
     "output_type": "execute_result"
    }
   ],
   "source": [
    "socket_hourly = f\"wss://stream.binance.com:9443/stream?streams={assets_hourly}\"\n",
    "socket_daily = f\"wss://stream.binance.com:9443/stream?streams={assets_daily}\"\n",
    "socket_hourly, socket_daily"
   ]
  },
  {
   "cell_type": "code",
   "execution_count": 21,
   "metadata": {},
   "outputs": [],
   "source": [
    "def run_websocket_hourly(socket_name):\n",
    "    ws = websocket.create_connection(socket_name)\n",
    "    # print(\"WebSocket connection opened\")\n",
    "\n",
    "    # ws = websocket.WebSocketApp(\n",
    "    #     socket_hourly, \n",
    "    #     on_open=on_open,\n",
    "    #     on_close=on_close,\n",
    "    #     on_error=on_error,\n",
    "    #     on_message=on_message\n",
    "    # )\n",
    "    \n",
    "    result = ws.recv()\n",
    "    on_message(ws, result)\n",
    "\n",
    "    print(\"Received:\", result)\n",
    "    ws.close()\n",
    "\n",
    "def run_websocket_daily(socket_name):\n",
    "    ws = websocket.create_connection(socket_name)\n",
    "    # print(\"WebSocket connection opened\")\n",
    "\n",
    "    # ws = websocket.WebSocketApp(\n",
    "    #     socket_daily, \n",
    "    #     on_open=on_open,\n",
    "    #     on_close=on_close,\n",
    "    #     on_error=on_error,\n",
    "    #     on_message=on_message\n",
    "    # )\n",
    "        \n",
    "    result = ws.recv()\n",
    "    on_message(ws, result, hourly=False)\n",
    "    print(\"Received:\", result)\n",
    "    ws.close()\n"
   ]
  },
  {
   "cell_type": "code",
   "execution_count": null,
   "metadata": {},
   "outputs": [
    {
     "name": "stdout",
     "output_type": "stream",
     "text": [
      "\n",
      "\n",
      "Daily report:\n",
      "Received: {\"stream\":\"btcusdt@ticker_1d\",\"data\":{\"e\":\"1dTicker\",\"E\":1744087221198,\"s\":\"BTCUSDT\",\"p\":\"3447.52000000\",\"P\":\"4.484\",\"w\":\"77725.05742239\",\"o\":\"76878.48000000\",\"h\":\"81243.58000000\",\"l\":\"74508.00000000\",\"c\":\"80326.00000000\",\"v\":\"73394.73565000\",\"q\":\"5704610042.89724250\",\"O\":1744000800000,\"C\":1744087221122,\"F\":4785973184,\"L\":4794918086,\"n\":8944903}}\n",
      "Received: {\"stream\":\"ethusdt@ticker_1d\",\"data\":{\"e\":\"1dTicker\",\"E\":1744087222198,\"s\":\"ETHUSDT\",\"p\":\"51.22000000\",\"P\":\"3.317\",\"w\":\"1526.07586433\",\"o\":\"1544.23000000\",\"h\":\"1639.00000000\",\"l\":\"1411.01000000\",\"c\":\"1595.45000000\",\"v\":\"2019833.57510000\",\"q\":\"3082419268.91665300\",\"O\":1744000800000,\"C\":1744087222116,\"F\":2305669826,\"L\":2310942251,\"n\":5272426}}\n",
      "Received: {\"stream\":\"ltcusdt@ticker_1d\",\"data\":{\"e\":\"1dTicker\",\"E\":1744087228110,\"s\":\"LTCUSDT\",\"p\":\"4.35000000\",\"P\":\"6.381\",\"w\":\"68.17649764\",\"o\":\"68.17000000\",\"h\":\"73.04000000\",\"l\":\"63.08000000\",\"c\":\"72.52000000\",\"v\":\"1687142.42700000\",\"q\":\"115023461.70091000\",\"O\":1744000800000,\"C\":1744087227786,\"F\":443642895,\"L\":444364058,\"n\":721164}}\n",
      "\n",
      "\n",
      "Hourly report:\n",
      "Received: {\"stream\":\"btcusdt@ticker_1h\",\"data\":{\"e\":\"1hTicker\",\"E\":1744087229199,\"s\":\"BTCUSDT\",\"p\":\"339.04000000\",\"P\":\"0.424\",\"w\":\"80001.76912171\",\"o\":\"79986.95000000\",\"h\":\"80357.09000000\",\"l\":\"79759.90000000\",\"c\":\"80325.99000000\",\"v\":\"671.49083000\",\"q\":\"53720454.34900260\",\"O\":1744083600000,\"C\":1744087229016,\"F\":4794811764,\"L\":4794918633,\"n\":106870}}\n",
      "Received: {\"stream\":\"ethusdt@ticker_1h\",\"data\":{\"e\":\"1hTicker\",\"E\":1744087230199,\"s\":\"ETHUSDT\",\"p\":\"9.55000000\",\"P\":\"0.602\",\"w\":\"1589.31880319\",\"o\":\"1585.99000000\",\"h\":\"1598.85000000\",\"l\":\"1579.36000000\",\"c\":\"1595.54000000\",\"v\":\"15271.91760000\",\"q\":\"24271945.80237500\",\"O\":1744083600000,\"C\":1744087229585,\"F\":2310861988,\"L\":2310942502,\"n\":80515}}\n",
      "Received: {\"stream\":\"ltcusdt@ticker_1h\",\"data\":{\"e\":\"1hTicker\",\"E\":1744087232199,\"s\":\"LTCUSDT\",\"p\":\"0.42000000\",\"P\":\"0.582\",\"w\":\"72.08942413\",\"o\":\"72.11000000\",\"h\":\"72.59000000\",\"l\":\"71.73000000\",\"c\":\"72.53000000\",\"v\":\"13795.68000000\",\"q\":\"994522.62670000\",\"O\":1744083600000,\"C\":1744087231876,\"F\":444356385,\"L\":444364069,\"n\":7685}}\n",
      "\n",
      "\n",
      "Hourly report:\n",
      "Received: {\"stream\":\"btcusdt@ticker_1h\",\"data\":{\"e\":\"1hTicker\",\"E\":1744090835368,\"s\":\"BTCUSDT\",\"p\":\"-527.56000000\",\"P\":\"-0.657\",\"w\":\"79885.35174806\",\"o\":\"80350.63000000\",\"h\":\"80413.49000000\",\"l\":\"79536.00000000\",\"c\":\"79823.07000000\",\"v\":\"1068.11257000\",\"q\":\"85326548.36097400\",\"O\":1744087200000,\"C\":1744090834817,\"F\":4794917093,\"L\":4795070810,\"n\":153718}}\n",
      "Received: {\"stream\":\"ethusdt@ticker_1h\",\"data\":{\"e\":\"1hTicker\",\"E\":1744090836368,\"s\":\"ETHUSDT\",\"p\":\"-8.02000000\",\"P\":\"-0.503\",\"w\":\"1592.82592363\",\"o\":\"1595.99000000\",\"h\":\"1602.27000000\",\"l\":\"1582.08000000\",\"c\":\"1587.97000000\",\"v\":\"21192.00200000\",\"q\":\"33755170.15915500\",\"O\":1744087200000,\"C\":1744090836017,\"F\":2310941759,\"L\":2311035728,\"n\":93970}}\n",
      "Received: {\"stream\":\"ltcusdt@ticker_1h\",\"data\":{\"e\":\"1hTicker\",\"E\":1744090838278,\"s\":\"LTCUSDT\",\"p\":\"-0.13000000\",\"P\":\"-0.179\",\"w\":\"72.46898165\",\"o\":\"72.56000000\",\"h\":\"72.90000000\",\"l\":\"71.91000000\",\"c\":\"72.43000000\",\"v\":\"19267.66200000\",\"q\":\"1396307.84391000\",\"O\":1744087200000,\"C\":1744090837784,\"F\":444363996,\"L\":444373110,\"n\":9115}}\n"
     ]
    }
   ],
   "source": [
    "count = 0\n",
    "socket = \"wss://stream.binance.com:9443/stream?streams=\"\n",
    "while True:\n",
    "    if count % 24 == 0:\n",
    "        print(\"\\n\\nDaily report:\")\n",
    "        # runs the websocket for daily data\n",
    "        for coins in assets:\n",
    "            socket_name = socket + coins.lower() + \"usdt@ticker_1d\"\n",
    "            run_websocket_daily(socket_name)\n",
    "        \n",
    "    count += 1\n",
    "    print(\"\\n\\nHourly report:\")\n",
    "    for coins in assets:\n",
    "        socket_name = socket + coins.lower() + \"usdt@ticker_1h\"\n",
    "        run_websocket_hourly(socket_name)\n",
    "\n",
    "    time.sleep(3600) "
   ]
  },
  {
   "cell_type": "code",
   "execution_count": null,
   "metadata": {},
   "outputs": [],
   "source": []
  }
 ],
 "metadata": {
  "kernelspec": {
   "display_name": "envTorch",
   "language": "python",
   "name": "python3"
  },
  "language_info": {
   "codemirror_mode": {
    "name": "ipython",
    "version": 3
   },
   "file_extension": ".py",
   "mimetype": "text/x-python",
   "name": "python",
   "nbconvert_exporter": "python",
   "pygments_lexer": "ipython3",
   "version": "3.11.11"
  }
 },
 "nbformat": 4,
 "nbformat_minor": 2
}
