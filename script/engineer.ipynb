{
 "cells": [
  {
   "cell_type": "code",
   "execution_count": 1,
   "id": "3b60a838",
   "metadata": {},
   "outputs": [],
   "source": [
    "import yfinance as yf\n",
    "import pandas as pd\n",
    "import numpy as np\n",
    "import matplotlib.pyplot as plt\n",
    "import seaborn as sns\n",
    "from sklearn.metrics import mean_squared_error, mean_absolute_error, r2_score\n",
    "import warnings\n",
    "warnings.filterwarnings('ignore')\n",
    "from sklearn.preprocessing import MinMaxScaler\n",
    "from tensorflow.keras.models import Sequential\n",
    "from tensorflow.keras.layers import LSTM, Dense, Dropout\n",
    "import pickle"
   ]
  },
  {
   "cell_type": "code",
   "execution_count": 2,
   "id": "6eed0a1a",
   "metadata": {},
   "outputs": [],
   "source": [
    "# backend\n",
    "# loading single coin models\n",
    "def coin_model_instance():\n",
    "    window_size = 60\n",
    "    model_coin = Sequential([\n",
    "        LSTM(128, return_sequences=True, input_shape=(window_size, 1)),\n",
    "        Dropout(0.2),\n",
    "        LSTM(128, return_sequences=False),\n",
    "        Dense(units=1)\n",
    "    ])\n",
    "    return model_coin\n",
    "\n",
    "\n",
    "def reload_model(coin):\n",
    "    window_size = 60\n",
    "    model_paths = [\n",
    "        './checkpoints/btc_checkpoint.weights.h5',\n",
    "        './checkpoints/eth_checkpoint.weights.h5',\n",
    "        './checkpoints/ltc_checkpoint.weights.h5'\n",
    "    ]\n",
    "\n",
    "    model_multicoin = Sequential(\n",
    "        [LSTM(64, return_sequences=True, input_shape=(window_size, 5)),\n",
    "        Dropout(0.2),\n",
    "        LSTM(64, return_sequences=False),\n",
    "        Dense(units=1)]\n",
    "    )\n",
    "    model_multicoin.load_weights('./checkpoints/merge_checkpoint.weights.h5')\n",
    "\n",
    "    coin_id = -1\n",
    "    if coin == 'BTC':\n",
    "        coin_id = 0\n",
    "    elif coin == \"LTC\":\n",
    "        coin_id = 1\n",
    "    elif coin == 'ETH':\n",
    "        coin_id = 2\n",
    "\n",
    "    coin_model = coin_model_instance()\n",
    "    coin_model.load_weights(model_paths[coin_id])\n",
    "    # print(model_multicoin.summary())\n",
    "    # print(coin_model.summary())\n",
    "    return model_multicoin, coin_model\n",
    "\n",
    "\n",
    "def reload_scaler(coin):\n",
    "    coin_paths = [\n",
    "        './checkpoints/btc_scaler.pkl',\n",
    "        './checkpoints/ltc_scaler.pkl',\n",
    "        './checkpoints/eth_scaler.pkl',\n",
    "    ]\n",
    "\n",
    "    # multi-coin\n",
    "    with open('./checkpoints/merge_scaler.pkl', 'rb') as f:\n",
    "        merge_scaler = pickle.load(f)\n",
    "        f.close()\n",
    "    \n",
    "    # single coin\n",
    "    coin_id = -1\n",
    "    if coin == 'BTC':\n",
    "        coin_id = 0\n",
    "    elif coin == \"LTC\":\n",
    "        coin_id = 1\n",
    "    elif coin == 'ETH':\n",
    "        coin_id = 2\n",
    "    \n",
    "    with open(coin_paths[coin_id], 'rb') as f_coin:\n",
    "        coin_scaler = pickle.load(f_coin)\n",
    "        f_coin.close()\n",
    "\n",
    "    return merge_scaler, coin_scaler\n",
    "\n",
    "def fetch_current_data(coin='BTC'):\n",
    "    btc = yf.Ticker('BTC-USD')\n",
    "    ltc = yf.Ticker('LTC-USD')\n",
    "    eth = yf.Ticker('ETH-USD')\n",
    "\n",
    "    btc_hist = btc.history(period='60D')\n",
    "    ltc_hist = ltc.history(period='60D')\n",
    "    eth_hist = eth.history(period='60D')\n",
    "\n",
    "    coin_list = [btc_hist, ltc_hist, eth_hist]\n",
    "    for c in coin_list:\n",
    "        if 'Stock Splits' in c.columns:\n",
    "            c.drop(columns=['Stock Splits'], inplace=True)\n",
    "        if 'Dividends' in c.columns:\n",
    "            c.drop(columns=['Dividends'], inplace=True)\n",
    "\n",
    "    '''\n",
    "    For single coin, require only close price data.\n",
    "    For multi-coin, require all 5 features\n",
    "    '''\n",
    "\n",
    "    btc_data = btc_hist\n",
    "    eth_data = eth_hist\n",
    "    ltc_data = ltc_hist\n",
    "\n",
    "    if coin == \"BTC\":\n",
    "        return btc_data\n",
    "    elif coin == \"ETH\":\n",
    "        return eth_data\n",
    "    elif coin == 'LTC':\n",
    "        return ltc_data\n"
   ]
  },
  {
   "cell_type": "code",
   "execution_count": 3,
   "id": "8ecfd48e",
   "metadata": {},
   "outputs": [],
   "source": [
    "forecast_days=[1, 5, 10, 30]\n",
    "coin='BTC'\n",
    "target_col = 3\n",
    "\n",
    "# Fetch initial inputs\n",
    "X_merge_init = fetch_current_data(coin)  # shape (60, 5)\n",
    "X_coin_init = X_merge_init['Close']      # assuming shape (60, 5) too\n",
    "\n",
    "# Reload scalers and models\n",
    "merg_scaler, coin_scaler = reload_scaler(coin)\n",
    "merge_model, coin_model = reload_model(coin)\n",
    "\n",
    "# Constants\n",
    "total_features = X_merge_init.shape[-1]\n",
    "\n",
    "# Convert to NumPy arrays\n",
    "X_input_multicoin = X_merge_init.to_numpy()\n",
    "X_input_coin = X_merge_init['Close'].to_numpy()\n",
    "\n",
    "# Ensure shapes are correct\n",
    "X_input_multicoin = X_input_multicoin.reshape(1, 60, total_features)\n",
    "X_input_coin = X_input_coin.reshape(1, 60, 1)\n",
    "\n",
    "# Store predictions\n",
    "forecast_result_multicoin = {}\n",
    "forecast_result_single = {}\n",
    "predicted_closes_multicoin = []\n",
    "predicted_closes_single = []"
   ]
  },
  {
   "cell_type": "code",
   "execution_count": 7,
   "id": "fd4540f9",
   "metadata": {},
   "outputs": [
    {
     "data": {
      "text/plain": [
       "(array([9.65778047e+04, 9.66718750e+04, 9.52704531e+04, 9.62739219e+04,\n",
       "        1.69994790e+10]),\n",
       " (1, 60, 5))"
      ]
     },
     "execution_count": 7,
     "metadata": {},
     "output_type": "execute_result"
    }
   ],
   "source": [
    "X_input_multicoin[0][0], X_input_multicoin.shape"
   ]
  },
  {
   "cell_type": "code",
   "execution_count": null,
   "id": "a1713d98",
   "metadata": {},
   "outputs": [
    {
     "data": {
      "text/plain": [
       "(1, 60, 1)"
      ]
     },
     "execution_count": 8,
     "metadata": {},
     "output_type": "execute_result"
    }
   ],
   "source": [
    "X_input_coin.shape"
   ]
  },
  {
   "cell_type": "code",
   "execution_count": 9,
   "id": "db0c6f91",
   "metadata": {},
   "outputs": [
    {
     "data": {
      "text/plain": [
       "(array([[0.37435454]], dtype=float32), array([[8.808902]], dtype=float32))"
      ]
     },
     "execution_count": 9,
     "metadata": {},
     "output_type": "execute_result"
    }
   ],
   "source": [
    "pred_scaled_multicoin = merge_model.predict(X_input_multicoin, verbose=0)\n",
    "pred_scaled_coin = coin_model.predict(X_input_coin, verbose=0)\n",
    "\n",
    "pred_scaled_multicoin, pred_scaled_coin"
   ]
  },
  {
   "cell_type": "code",
   "execution_count": 10,
   "id": "530e9761",
   "metadata": {},
   "outputs": [
    {
     "data": {
      "text/plain": [
       "array([0.37435454], dtype=float32)"
      ]
     },
     "execution_count": 10,
     "metadata": {},
     "output_type": "execute_result"
    }
   ],
   "source": [
    "pred_scaled_multicoin.flatten()"
   ]
  },
  {
   "cell_type": "code",
   "execution_count": 12,
   "id": "2e278680",
   "metadata": {},
   "outputs": [
    {
     "data": {
      "text/plain": [
       "array([[0.        , 0.        , 0.        , 0.37435454, 0.        ]])"
      ]
     },
     "execution_count": 12,
     "metadata": {},
     "output_type": "execute_result"
    }
   ],
   "source": [
    "expanded_multicoin = np.zeros((1, total_features))\n",
    "expanded_multicoin[:, target_col] = pred_scaled_multicoin.flatten()\n",
    "expanded_multicoin"
   ]
  },
  {
   "cell_type": "code",
   "execution_count": 13,
   "id": "2d8f8b87",
   "metadata": {},
   "outputs": [
    {
     "data": {
      "text/plain": [
       "array([[0.        , 0.        , 0.        , 8.80890179, 0.        ]])"
      ]
     },
     "execution_count": 13,
     "metadata": {},
     "output_type": "execute_result"
    }
   ],
   "source": [
    "expanded_coin = np.zeros((1, total_features))\n",
    "expanded_coin[:, target_col] = pred_scaled_coin.flatten()\n",
    "expanded_coin"
   ]
  },
  {
   "cell_type": "code",
   "execution_count": 15,
   "id": "126b0de2",
   "metadata": {},
   "outputs": [
    {
     "data": {
      "text/plain": [
       "(array([[1.15323997e+00, 1.34481001e+00, 1.11373997e+00, 2.73598640e+04,\n",
       "         4.81714000e+05]]),\n",
       " array([[1.78102997e+02, 1.78102997e+02, 1.78102997e+02, 5.93798764e+05,\n",
       "         1.78102997e+02]]))"
      ]
     },
     "execution_count": 15,
     "metadata": {},
     "output_type": "execute_result"
    }
   ],
   "source": [
    "pred_full_multicoin = merg_scaler.inverse_transform(expanded_multicoin)\n",
    "pred_full_coin = coin_scaler.inverse_transform(expanded_coin)\n",
    "\n",
    "pred_full_multicoin, pred_full_coin"
   ]
  },
  {
   "cell_type": "code",
   "execution_count": 16,
   "id": "9c5c69e2",
   "metadata": {},
   "outputs": [
    {
     "data": {
      "text/plain": [
       "(np.float64(27359.86399725144), np.float64(593798.7641888537))"
      ]
     },
     "execution_count": 16,
     "metadata": {},
     "output_type": "execute_result"
    }
   ],
   "source": [
    "pred_close_multicoin = pred_full_multicoin[:, target_col][0]\n",
    "pred_close_coin = pred_full_coin[:, target_col][0]\n",
    "\n",
    "pred_close_multicoin, pred_close_coin"
   ]
  },
  {
   "cell_type": "code",
   "execution_count": 18,
   "id": "af177674",
   "metadata": {},
   "outputs": [
    {
     "data": {
      "text/plain": [
       "array([9.62779609e+04, 9.65034531e+04, 9.13717422e+04, 9.14181719e+04,\n",
       "       4.40464805e+10])"
      ]
     },
     "execution_count": 18,
     "metadata": {},
     "output_type": "execute_result"
    }
   ],
   "source": [
    "next_input_multi = X_input_multicoin[:, 1:, :].copy()\n",
    "next_input_multi[0][0]"
   ]
  },
  {
   "cell_type": "code",
   "execution_count": 19,
   "id": "f302ffff",
   "metadata": {},
   "outputs": [
    {
     "data": {
      "text/plain": [
       "array([[9.34661172e+04, 9.43918203e+04, 9.26785234e+04, 9.35913828e+04,\n",
       "        5.99744512e+10]])"
      ]
     },
     "execution_count": 19,
     "metadata": {},
     "output_type": "execute_result"
    }
   ],
   "source": [
    "new_step_multi = X_input_multicoin[:, -1, :].copy()\n",
    "new_step_multi"
   ]
  },
  {
   "cell_type": "code",
   "execution_count": 20,
   "id": "81359d05",
   "metadata": {},
   "outputs": [
    {
     "data": {
      "text/plain": [
       "array([[9.34661172e+04, 9.43918203e+04, 9.26785234e+04, 3.74354541e-01,\n",
       "        5.99744512e+10]])"
      ]
     },
     "execution_count": 20,
     "metadata": {},
     "output_type": "execute_result"
    }
   ],
   "source": [
    "new_step_multi[0, target_col] = pred_scaled_multicoin.flatten()[0]\n",
    "new_step_multi"
   ]
  },
  {
   "cell_type": "code",
   "execution_count": 21,
   "id": "4ce6bc32",
   "metadata": {},
   "outputs": [
    {
     "data": {
      "text/plain": [
       "array([[[9.34661172e+04, 9.43918203e+04, 9.26785234e+04, 3.74354541e-01,\n",
       "         5.99744512e+10]]])"
      ]
     },
     "execution_count": 21,
     "metadata": {},
     "output_type": "execute_result"
    }
   ],
   "source": [
    "new_ = new_step_multi.reshape(1, 1, total_features)\n",
    "new_"
   ]
  },
  {
   "cell_type": "code",
   "execution_count": 22,
   "id": "6990c20b",
   "metadata": {},
   "outputs": [
    {
     "data": {
      "text/plain": [
       "array([[[9.62779609e+04, 9.65034531e+04, 9.13717422e+04, 9.14181719e+04,\n",
       "         4.40464805e+10],\n",
       "        [9.14371172e+04, 9.25110781e+04, 8.60082344e+04, 8.87361719e+04,\n",
       "         9.21391041e+10],\n",
       "        [8.86388906e+04, 8.92862500e+04, 8.21318984e+04, 8.43470234e+04,\n",
       "         6.45974921e+10],\n",
       "        [8.40768594e+04, 8.70007812e+04, 8.31449609e+04, 8.47042266e+04,\n",
       "         5.26595920e+10],\n",
       "        [8.47056250e+04, 8.50363203e+04, 7.82489141e+04, 8.43730078e+04,\n",
       "         8.36105706e+10],\n",
       "        [8.43738672e+04, 8.65223047e+04, 8.37942344e+04, 8.60319141e+04,\n",
       "         2.91906284e+10],\n",
       "        [8.60362578e+04, 9.50434375e+04, 8.50402109e+04, 9.42483516e+04,\n",
       "         5.83983411e+10],\n",
       "        [9.42484219e+04, 9.44297500e+04, 8.50813047e+04, 8.60656719e+04,\n",
       "         7.00722285e+10],\n",
       "        [8.60640703e+04, 8.89112734e+04, 8.15292422e+04, 8.72221953e+04,\n",
       "         6.80952415e+10],\n",
       "        [8.72229531e+04, 9.09982422e+04, 8.63797734e+04, 9.06235625e+04,\n",
       "         5.04989880e+10],\n",
       "        [9.06223594e+04, 9.28049375e+04, 8.78521406e+04, 8.99617266e+04,\n",
       "         4.77498105e+10],\n",
       "        [8.99632812e+04, 9.11910469e+04, 8.47176797e+04, 8.67426719e+04,\n",
       "         6.59456777e+10],\n",
       "        [8.67426562e+04, 8.68472656e+04, 8.52474844e+04, 8.61545938e+04,\n",
       "         1.82061181e+10],\n",
       "        [8.61543047e+04, 8.64711328e+04, 8.00524844e+04, 8.06010391e+04,\n",
       "         3.08993460e+10],\n",
       "        [8.05971484e+04, 8.39559297e+04, 7.74205938e+04, 7.85320000e+04,\n",
       "         5.40610994e+10],\n",
       "        [7.85238750e+04, 8.35777578e+04, 7.66242500e+04, 8.28622109e+04,\n",
       "         5.47028372e+10],\n",
       "        [8.28573750e+04, 8.43585781e+04, 8.06352500e+04, 8.37223594e+04,\n",
       "         4.03534845e+10],\n",
       "        [8.37249219e+04, 8.43016953e+04, 7.99318516e+04, 8.10667031e+04,\n",
       "         3.14129402e+10],\n",
       "        [8.10669922e+04, 8.52632891e+04, 8.07975625e+04, 8.39691016e+04,\n",
       "         2.95881124e+10],\n",
       "        [8.39684062e+04, 8.46726719e+04, 8.36395938e+04, 8.43431094e+04,\n",
       "         1.36504913e+10],\n",
       "        [8.43333203e+04, 8.50516016e+04, 8.20179062e+04, 8.25796875e+04,\n",
       "         2.13302702e+10],\n",
       "        [8.25763359e+04, 8.47253281e+04, 8.24921562e+04, 8.40756875e+04,\n",
       "         2.50927856e+10],\n",
       "        [8.40757188e+04, 8.40757188e+04, 8.11799922e+04, 8.27185000e+04,\n",
       "         2.40957746e+10],\n",
       "        [8.27188047e+04, 8.70211875e+04, 8.25697266e+04, 8.68542266e+04,\n",
       "         3.49319603e+10],\n",
       "        [8.68729531e+04, 8.74432656e+04, 8.36471953e+04, 8.41671953e+04,\n",
       "         2.90289890e+10],\n",
       "        [8.41645391e+04, 8.47822734e+04, 8.31710703e+04, 8.40432422e+04,\n",
       "         1.90304523e+10],\n",
       "        [8.40462578e+04, 8.45138750e+04, 8.36747812e+04, 8.38324844e+04,\n",
       "         9.86321409e+09],\n",
       "        [8.38318984e+04, 8.60947812e+04, 8.37949141e+04, 8.60543750e+04,\n",
       "         1.25946155e+10],\n",
       "        [8.60709297e+04, 8.87587266e+04, 8.55411953e+04, 8.74989141e+04,\n",
       "         3.45826049e+10],\n",
       "        [8.75128203e+04, 8.85423984e+04, 8.63460781e+04, 8.74717031e+04,\n",
       "         3.00058400e+10],\n",
       "        [8.74602344e+04, 8.82921562e+04, 8.58614531e+04, 8.69008828e+04,\n",
       "         2.67040460e+10],\n",
       "        [8.68962578e+04, 8.77867266e+04, 8.58379375e+04, 8.71771016e+04,\n",
       "         2.44134719e+10],\n",
       "        [8.71852344e+04, 8.74898594e+04, 8.35576406e+04, 8.43531484e+04,\n",
       "         3.41986195e+10],\n",
       "        [8.43520703e+04, 8.45673359e+04, 8.16341406e+04, 8.25975859e+04,\n",
       "         1.69693961e+10],\n",
       "        [8.25969844e+04, 8.35050000e+04, 8.15732500e+04, 8.23345234e+04,\n",
       "         1.47637609e+10],\n",
       "        [8.23360625e+04, 8.38701250e+04, 8.12938906e+04, 8.25489141e+04,\n",
       "         2.90042282e+10],\n",
       "        [8.25519219e+04, 8.54873672e+04, 8.24293594e+04, 8.51691719e+04,\n",
       "         2.81756503e+10],\n",
       "        [8.51806094e+04, 8.84669531e+04, 8.23435391e+04, 8.24857109e+04,\n",
       "         4.75843985e+10],\n",
       "        [8.24874766e+04, 8.39092969e+04, 8.12821016e+04, 8.31028281e+04,\n",
       "         3.68521121e+10],\n",
       "        [8.31002500e+04, 8.46961484e+04, 8.16707500e+04, 8.38438047e+04,\n",
       "         4.51576402e+10],\n",
       "        [8.38447031e+04, 8.42070156e+04, 8.23777344e+04, 8.35047969e+04,\n",
       "         1.43808036e+10],\n",
       "        [8.35045078e+04, 8.37047188e+04, 7.70977422e+04, 7.82144844e+04,\n",
       "         3.62948537e+10],\n",
       "        [7.82213359e+04, 8.11190625e+04, 7.44366797e+04, 7.92353359e+04,\n",
       "         9.12624250e+10],\n",
       "        [7.92184766e+04, 8.08238906e+04, 7.61980234e+04, 7.62719531e+04,\n",
       "         4.83145907e+10],\n",
       "        [7.62735625e+04, 8.35410000e+04, 7.45896719e+04, 8.25739531e+04,\n",
       "         8.42136270e+10],\n",
       "        [8.25659766e+04, 8.27009297e+04, 7.84561328e+04, 7.96261406e+04,\n",
       "         4.47180006e+10],\n",
       "        [7.96250469e+04, 8.42474766e+04, 7.89363203e+04, 8.34048359e+04,\n",
       "         4.16567788e+10],\n",
       "        [8.34045156e+04, 8.58561875e+04, 8.27693750e+04, 8.52871094e+04,\n",
       "         2.42580591e+10],\n",
       "        [8.52794688e+04, 8.60151875e+04, 8.30270078e+04, 8.36849766e+04,\n",
       "         2.87969848e+10],\n",
       "        [8.36945234e+04, 8.57850000e+04, 8.36906406e+04, 8.45423906e+04,\n",
       "         3.40907698e+10],\n",
       "        [8.45396953e+04, 8.64293516e+04, 8.35988203e+04, 8.36689922e+04,\n",
       "         2.80403229e+10],\n",
       "        [8.36745078e+04, 8.54282812e+04, 8.31006172e+04, 8.40338672e+04,\n",
       "         2.96178041e+10],\n",
       "        [8.40306719e+04, 8.54490703e+04, 8.37497500e+04, 8.48957500e+04,\n",
       "         2.12768660e+10],\n",
       "        [8.49001875e+04, 8.50950469e+04, 8.42988828e+04, 8.44508047e+04,\n",
       "         1.27283724e+10],\n",
       "        [8.44508672e+04, 8.55977031e+04, 8.43534609e+04, 8.50634141e+04,\n",
       "         1.52593004e+10],\n",
       "        [8.50660703e+04, 8.53063828e+04, 8.39768438e+04, 8.51743047e+04,\n",
       "         1.46640508e+10],\n",
       "        [8.51715391e+04, 8.84600938e+04, 8.51438359e+04, 8.75189062e+04,\n",
       "         4.13961902e+10],\n",
       "        [8.75218750e+04, 9.38173828e+04, 8.70845312e+04, 9.34418906e+04,\n",
       "         5.58990385e+10],\n",
       "        [9.34661172e+04, 9.43918203e+04, 9.26785234e+04, 9.35913828e+04,\n",
       "         5.99744512e+10],\n",
       "        [9.34661172e+04, 9.43918203e+04, 9.26785234e+04, 3.74354541e-01,\n",
       "         5.99744512e+10]]])"
      ]
     },
     "execution_count": 22,
     "metadata": {},
     "output_type": "execute_result"
    }
   ],
   "source": [
    "X_input_multicoin = np.concatenate([next_input_multi, new_step_multi.reshape(1, 1, total_features)], axis=1)\n",
    "X_input_multicoin"
   ]
  },
  {
   "cell_type": "code",
   "execution_count": null,
   "id": "da3025d2",
   "metadata": {},
   "outputs": [],
   "source": []
  }
 ],
 "metadata": {
  "kernelspec": {
   "display_name": "envTorch",
   "language": "python",
   "name": "python3"
  },
  "language_info": {
   "codemirror_mode": {
    "name": "ipython",
    "version": 3
   },
   "file_extension": ".py",
   "mimetype": "text/x-python",
   "name": "python",
   "nbconvert_exporter": "python",
   "pygments_lexer": "ipython3",
   "version": "3.11.11"
  }
 },
 "nbformat": 4,
 "nbformat_minor": 5
}
