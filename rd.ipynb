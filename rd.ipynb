{
 "cells": [
  {
   "cell_type": "code",
   "execution_count": 2,
   "id": "fa6fa72f",
   "metadata": {},
   "outputs": [],
   "source": [
    "import pandas as pd"
   ]
  },
  {
   "cell_type": "code",
   "execution_count": 14,
   "id": "3e7bfce6",
   "metadata": {},
   "outputs": [
    {
     "data": {
      "text/plain": [
       "13"
      ]
     },
     "execution_count": 14,
     "metadata": {},
     "output_type": "execute_result"
    }
   ],
   "source": [
    "len('1744095756508')"
   ]
  },
  {
   "cell_type": "code",
   "execution_count": 3,
   "id": "12ca0e05",
   "metadata": {},
   "outputs": [
    {
     "name": "stdout",
     "output_type": "stream",
     "text": [
      "2025-04-09 08:51:29.755000\n"
     ]
    }
   ],
   "source": [
    "time = 1744188689755\n",
    "\n",
    "print(pd.to_datetime(time, unit='ms'))"
   ]
  },
  {
   "cell_type": "code",
   "execution_count": 31,
   "id": "9656e91f",
   "metadata": {},
   "outputs": [
    {
     "data": {
      "text/plain": [
       "Timestamp('1970-01-01 00:29:04.095756508')"
      ]
     },
     "execution_count": 31,
     "metadata": {},
     "output_type": "execute_result"
    }
   ],
   "source": [
    "date_wrong = pd.to_datetime(time)\n",
    "date_wrong"
   ]
  },
  {
   "cell_type": "code",
   "execution_count": 32,
   "id": "335d7d2a",
   "metadata": {},
   "outputs": [
    {
     "data": {
      "text/plain": [
       "pandas._libs.tslibs.timestamps.Timestamp"
      ]
     },
     "execution_count": 32,
     "metadata": {},
     "output_type": "execute_result"
    }
   ],
   "source": [
    "type(date_wrong)"
   ]
  },
  {
   "cell_type": "code",
   "execution_count": 33,
   "id": "d1228d21",
   "metadata": {},
   "outputs": [
    {
     "data": {
      "text/plain": [
       "1744095757000.0"
      ]
     },
     "execution_count": 33,
     "metadata": {},
     "output_type": "execute_result"
    }
   ],
   "source": [
    "timestamp_in_seconds = float(date_wrong.timestamp())\n",
    "timestamp_in_seconds * 1000000000"
   ]
  },
  {
   "cell_type": "code",
   "execution_count": 34,
   "id": "1c487924",
   "metadata": {},
   "outputs": [
    {
     "data": {
      "text/plain": [
       "13"
      ]
     },
     "execution_count": 34,
     "metadata": {},
     "output_type": "execute_result"
    }
   ],
   "source": [
    "len('1744095757000')"
   ]
  },
  {
   "cell_type": "code",
   "execution_count": 35,
   "id": "711635dc",
   "metadata": {},
   "outputs": [
    {
     "data": {
      "text/plain": [
       "Timestamp('2025-04-08 07:02:37')"
      ]
     },
     "execution_count": 35,
     "metadata": {},
     "output_type": "execute_result"
    }
   ],
   "source": [
    "date = pd.to_datetime(1744095757000, unit='ms')\n",
    "date"
   ]
  },
  {
   "cell_type": "code",
   "execution_count": 36,
   "id": "3ab75170",
   "metadata": {},
   "outputs": [],
   "source": [
    "time_wrong = [\n",
    "'1970-01-01 00:29:04.087054102',\n",
    "'1970-01-01 00:29:04.087232199',\n",
    "'1970-01-01 00:29:04.087426208',\n",
    "'1970-01-01 00:29:04.090838278',\n",
    "'1970-01-01 00:29:04.091031286',\n",
    "'1970-01-01 00:29:04.092738366',\n",
    "'1970-01-01 00:29:04.095763508'\n",
    "]"
   ]
  },
  {
   "cell_type": "code",
   "execution_count": 50,
   "id": "d7f22631",
   "metadata": {},
   "outputs": [],
   "source": [
    "time_wrong = pd.to_datetime(time_wrong)"
   ]
  },
  {
   "cell_type": "code",
   "execution_count": 51,
   "id": "147c0da2",
   "metadata": {},
   "outputs": [
    {
     "data": {
      "text/plain": [
       "DatetimeIndex(['1970-01-01 00:29:04.087042102',\n",
       "               '1970-01-01 00:29:04.087221198',\n",
       "               '1970-01-01 00:29:04.087413118',\n",
       "               '1970-01-01 00:29:04.092728366',\n",
       "               '1970-01-01 00:29:04.095756508'],\n",
       "              dtype='datetime64[ns]', freq=None)"
      ]
     },
     "execution_count": 51,
     "metadata": {},
     "output_type": "execute_result"
    }
   ],
   "source": [
    "time_wrong"
   ]
  },
  {
   "cell_type": "code",
   "execution_count": 52,
   "id": "0135e420",
   "metadata": {},
   "outputs": [],
   "source": [
    "def get_date(time_wrong):\n",
    "    timestamp_in_seconds = float(time_wrong.timestamp())*1000000000\n",
    "    date = pd.to_datetime(timestamp_in_seconds, unit='ms')\n",
    "    return (date, timestamp_in_seconds)"
   ]
  },
  {
   "cell_type": "code",
   "execution_count": 53,
   "id": "22eba03d",
   "metadata": {},
   "outputs": [
    {
     "data": {
      "text/plain": [
       "([Timestamp('2025-04-08 04:37:22'),\n",
       "  Timestamp('2025-04-08 04:40:21'),\n",
       "  Timestamp('2025-04-08 04:43:33'),\n",
       "  Timestamp('2025-04-08 06:12:08'),\n",
       "  Timestamp('2025-04-08 07:02:37')],\n",
       " [1744087042000.0,\n",
       "  1744087221000.0,\n",
       "  1744087413000.0,\n",
       "  1744092728000.0,\n",
       "  1744095757000.0])"
      ]
     },
     "execution_count": 53,
     "metadata": {},
     "output_type": "execute_result"
    }
   ],
   "source": [
    "dates = []\n",
    "timestamps = []\n",
    "for d in time_wrong:\n",
    "    cor_date, cor_timestamp = get_date(d)\n",
    "    dates.append(cor_date)\n",
    "    timestamps.append(cor_timestamp)\n",
    "\n",
    "dates, timestamps"
   ]
  },
  {
   "cell_type": "code",
   "execution_count": null,
   "id": "22414ca8",
   "metadata": {},
   "outputs": [],
   "source": [
    "'2025-04-08 04:37:34'\n",
    "'2025-04-08 04:40:32'\n",
    "'2025-04-08 04:43:46'\n",
    "'2025-04-08 05:40:38'\n",
    "'2025-04-08 05:43:51'\n",
    "'2025-04-08 06:12:18'\n",
    "'2025-04-08 07:02:44'"
   ]
  },
  {
   "cell_type": "code",
   "execution_count": 47,
   "id": "7fcda588",
   "metadata": {},
   "outputs": [],
   "source": [
    "time_wrong = [\n",
    "'1970-01-01 00:29:04.087042102',\n",
    "'1970-01-01 00:29:04.087221198',\n",
    "'1970-01-01 00:29:04.087413118',\n",
    "'1970-01-01 00:29:04.092728366',\n",
    "'1970-01-01 00:29:04.095756508'\n",
    "]"
   ]
  },
  {
   "cell_type": "code",
   "execution_count": null,
   "id": "f04bf47b",
   "metadata": {},
   "outputs": [],
   "source": [
    "'2025-04-08 04:37:22'\n",
    "'2025-04-08 04:40:21'\n",
    "'2025-04-08 04:43:33'\n",
    "'2025-04-08 06:12:08'\n",
    "'2025-04-08 07:02:37'"
   ]
  }
 ],
 "metadata": {
  "kernelspec": {
   "display_name": "envTorch",
   "language": "python",
   "name": "python3"
  },
  "language_info": {
   "codemirror_mode": {
    "name": "ipython",
    "version": 3
   },
   "file_extension": ".py",
   "mimetype": "text/x-python",
   "name": "python",
   "nbconvert_exporter": "python",
   "pygments_lexer": "ipython3",
   "version": "3.11.11"
  }
 },
 "nbformat": 4,
 "nbformat_minor": 5
}
